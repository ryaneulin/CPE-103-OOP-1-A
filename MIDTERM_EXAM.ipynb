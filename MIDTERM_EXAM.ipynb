{
  "nbformat": 4,
  "nbformat_minor": 0,
  "metadata": {
    "colab": {
      "provenance": [],
      "authorship_tag": "ABX9TyPr8UfVxPi++8rIQmECkNLd",
      "include_colab_link": true
    },
    "kernelspec": {
      "name": "python3",
      "display_name": "Python 3"
    },
    "language_info": {
      "name": "python"
    }
  },
  "cells": [
    {
      "cell_type": "markdown",
      "metadata": {
        "id": "view-in-github",
        "colab_type": "text"
      },
      "source": [
        "<a href=\"https://colab.research.google.com/github/ryaneulin/CPE-103-OOP-1-A/blob/main/MIDTERM_EXAM.ipynb\" target=\"_parent\"><img src=\"https://colab.research.google.com/assets/colab-badge.svg\" alt=\"Open In Colab\"/></a>"
      ]
    },
    {
      "cell_type": "markdown",
      "source": [
        "I.\n",
        "\n",
        "1-10."
      ],
      "metadata": {
        "id": "wQ-QLYxqSpxN"
      }
    },
    {
      "cell_type": "code",
      "execution_count": 24,
      "metadata": {
        "colab": {
          "base_uri": "https://localhost:8080/",
          "height": 106
        },
        "id": "zN091wKXQV-j",
        "outputId": "586773a8-a68a-4cf2-d798-2a49c8188590"
      },
      "outputs": [
        {
          "output_type": "error",
          "ename": "SyntaxError",
          "evalue": "invalid syntax (<ipython-input-24-12619da96890>, line 7)",
          "traceback": [
            "\u001b[0;36m  File \u001b[0;32m\"<ipython-input-24-12619da96890>\"\u001b[0;36m, line \u001b[0;32m7\u001b[0m\n\u001b[0;31m    i + = 1\u001b[0m\n\u001b[0m        ^\u001b[0m\n\u001b[0;31mSyntaxError\u001b[0m\u001b[0;31m:\u001b[0m invalid syntax\n"
          ]
        }
      ],
      "source": [
        "i = 1\n",
        "while True:\n",
        "    if 1%3 == 0:\n",
        "        break\n",
        "    print(i)\n",
        "\n",
        "    i + = 1\n"
      ]
    },
    {
      "cell_type": "markdown",
      "source": [
        "11-20."
      ],
      "metadata": {
        "id": "Ky9LprwATz1F"
      }
    },
    {
      "cell_type": "code",
      "source": [
        "i = 0\n",
        "while i < 5:\n",
        "    print(i)\n",
        "    i += 1\n",
        "    if i == 3:\n",
        "        break\n",
        "else:\n",
        "    print(0)"
      ],
      "metadata": {
        "colab": {
          "base_uri": "https://localhost:8080/"
        },
        "id": "dbfpH-tnT1xs",
        "outputId": "bfccce09-7c07-4df0-f4c6-8db0abe0d4f1"
      },
      "execution_count": 21,
      "outputs": [
        {
          "output_type": "stream",
          "name": "stdout",
          "text": [
            "0\n",
            "1\n",
            "2\n"
          ]
        }
      ]
    },
    {
      "cell_type": "markdown",
      "source": [
        "21-30"
      ],
      "metadata": {
        "id": "IecS0VASURE0"
      }
    },
    {
      "cell_type": "code",
      "source": [
        "def f1():\n",
        "  x=15\n",
        "  print(x)\n",
        "\n",
        "x = 12\n",
        "f1()"
      ],
      "metadata": {
        "colab": {
          "base_uri": "https://localhost:8080/"
        },
        "id": "2E_8BDVYUSp0",
        "outputId": "f733ccd3-1f24-4cb4-ed78-3c23857a723d"
      },
      "execution_count": 17,
      "outputs": [
        {
          "output_type": "stream",
          "name": "stdout",
          "text": [
            "15\n"
          ]
        }
      ]
    },
    {
      "cell_type": "markdown",
      "source": [
        "31-40."
      ],
      "metadata": {
        "id": "vcbeXC_4Uw9N"
      }
    },
    {
      "cell_type": "code",
      "source": [
        "class Person():\n",
        "  def __int__(self):\n",
        "    self.__name = \"Default Name\"\n",
        "\n",
        "person1 = Person()\n",
        "print(self.__name)\n"
      ],
      "metadata": {
        "colab": {
          "base_uri": "https://localhost:8080/",
          "height": 176
        },
        "id": "AS4l2g5OUuW1",
        "outputId": "cbc7e839-33b5-4e4d-f1a7-5f4f6b05496a"
      },
      "execution_count": 26,
      "outputs": [
        {
          "output_type": "error",
          "ename": "NameError",
          "evalue": "name 'self' is not defined",
          "traceback": [
            "\u001b[0;31m---------------------------------------------------------------------------\u001b[0m",
            "\u001b[0;31mNameError\u001b[0m                                 Traceback (most recent call last)",
            "\u001b[0;32m<ipython-input-26-e89817995059>\u001b[0m in \u001b[0;36m<cell line: 0>\u001b[0;34m()\u001b[0m\n\u001b[1;32m      4\u001b[0m \u001b[0;34m\u001b[0m\u001b[0m\n\u001b[1;32m      5\u001b[0m \u001b[0mperson1\u001b[0m \u001b[0;34m=\u001b[0m \u001b[0mPerson\u001b[0m\u001b[0;34m(\u001b[0m\u001b[0;34m)\u001b[0m\u001b[0;34m\u001b[0m\u001b[0;34m\u001b[0m\u001b[0m\n\u001b[0;32m----> 6\u001b[0;31m \u001b[0mprint\u001b[0m\u001b[0;34m(\u001b[0m\u001b[0mself\u001b[0m\u001b[0;34m.\u001b[0m\u001b[0m__name\u001b[0m\u001b[0;34m)\u001b[0m\u001b[0;34m\u001b[0m\u001b[0;34m\u001b[0m\u001b[0m\n\u001b[0m",
            "\u001b[0;31mNameError\u001b[0m: name 'self' is not defined"
          ]
        }
      ]
    },
    {
      "cell_type": "markdown",
      "source": [
        "41-60."
      ],
      "metadata": {
        "id": "r8nzYGMIVGwF"
      }
    },
    {
      "cell_type": "code",
      "source": [
        "class Person():\n",
        "  def __int__(self):\n",
        "    self.__name= \"Default Name\"\n",
        "\n",
        "person1 = Person()\n",
        "person2 = Person()\n",
        "print(person1)\n",
        "print(person2)\n"
      ],
      "metadata": {
        "colab": {
          "base_uri": "https://localhost:8080/"
        },
        "id": "IWjvje1kVJEE",
        "outputId": "791cde36-806c-45d2-a793-7f4d3a8f844f"
      },
      "execution_count": 27,
      "outputs": [
        {
          "output_type": "stream",
          "name": "stdout",
          "text": [
            "<__main__.Person object at 0x7d7aee972910>\n",
            "<__main__.Person object at 0x7d7aee973c90>\n"
          ]
        }
      ]
    },
    {
      "cell_type": "markdown",
      "source": [
        "61-80."
      ],
      "metadata": {
        "id": "01ZbA8b1VfBt"
      }
    },
    {
      "cell_type": "code",
      "source": [
        "class Student():\n",
        "  def __init__(self, student_number, name):\n",
        "    self.stu_number = student_number\n",
        "    self.stu_name = name\n",
        "\n",
        "class DSCOfficer(Student):\n",
        "  def __init__(self, department):\n",
        "    self.department = department\n",
        "    self.event_list = []\n",
        "\n",
        "  def initiateEvent(self, name):\n",
        "   self.event_list.append({\"name\":name})\n",
        "\n",
        "officer1 = DSCOfficer(\"CpE\")\n",
        "officer1.initiateEvent(\"General Assembly\")\n",
        "print(officer1.event_list)\n"
      ],
      "metadata": {
        "colab": {
          "base_uri": "https://localhost:8080/"
        },
        "id": "IrttzVT6VjVV",
        "outputId": "1b2ee1a4-71df-43dc-c4c0-2a965721cad4"
      },
      "execution_count": 25,
      "outputs": [
        {
          "output_type": "stream",
          "name": "stdout",
          "text": [
            "[{'name': 'General Assembly'}]\n"
          ]
        }
      ]
    }
  ]
}