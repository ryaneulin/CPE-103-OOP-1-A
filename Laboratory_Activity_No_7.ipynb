{
  "nbformat": 4,
  "nbformat_minor": 0,
  "metadata": {
    "colab": {
      "provenance": [],
      "authorship_tag": "ABX9TyOFdaBud0fpq6hRBC5k/lyG",
      "include_colab_link": true
    },
    "kernelspec": {
      "name": "python3",
      "display_name": "Python 3"
    },
    "language_info": {
      "name": "python"
    }
  },
  "cells": [
    {
      "cell_type": "markdown",
      "metadata": {
        "id": "view-in-github",
        "colab_type": "text"
      },
      "source": [
        "<a href=\"https://colab.research.google.com/github/ryaneulin/CPE-103-OOP-1-A/blob/main/Laboratory_Activity_No_7.ipynb\" target=\"_parent\"><img src=\"https://colab.research.google.com/assets/colab-badge.svg\" alt=\"Open In Colab\"/></a>"
      ]
    },
    {
      "cell_type": "code",
      "execution_count": null,
      "metadata": {
        "id": "acNYq1MiHqH_",
        "colab": {
          "base_uri": "https://localhost:8080/"
        },
        "outputId": "44d3eecd-8f29-460e-960e-71cfaedbdc75"
      },
      "outputs": [
        {
          "output_type": "stream",
          "name": "stdout",
          "text": [
            "Enter feet and inches of distance1: 5 8\n",
            "Enter feet and inches of distance2: 5 8\n",
            "Distance2 is greater or equal to Distance1\n",
            "Sum of the two Distance is:\n",
            "Feet =  11 Inches=  4\n"
          ]
        }
      ],
      "source": [
        "class Distance:\n",
        "    def __init__(self, f,i):\n",
        "          self.feet = f\n",
        "          self.inches = i\n",
        "\n",
        "    # overloading of binary operator > to compare two distances def \tgt\t(self,d):\n",
        "    def __gt__(self,d):\n",
        "        if(self.feet>d.feet):\n",
        "           return True\n",
        "        elif((self.feet==d.feet) and (self.inches>d.inches)):\n",
        "           return True\n",
        "        else:\n",
        "           return(False)\n",
        "\n",
        "    # overloading of binary operator + to add two distances def \tadd\t(self, d):\n",
        "    def __add__(self, d):\n",
        "        i = self.inches + d.inches\n",
        "        f = self.feet + d.feet\n",
        "        if i >= 12:\n",
        "            i -= 12\n",
        "            f += 1\n",
        "        return Distance(f,i)\n",
        "\n",
        "    # displaying the distance def show(self):\n",
        "    def show(self):\n",
        "        print(\"Feet = \", self.feet, \"Inches= \", self.inches)\n",
        "\n",
        "# Input and usage\n",
        "\n",
        "a, b = map(int, input(\"Enter feet and inches of distance1: \").split() )\n",
        "c, d = map(int, input(\"Enter feet and inches of distance2: \").split() )\n",
        "d1 = Distance(a,b)\n",
        "d2 = Distance(c,d)\n",
        "if(d1>d2):\n",
        "    print(\"Distance1 is greater than Distance2\")\n",
        "else:\n",
        "    print(\"Distance2 is greater or equal to Distance1\")\n",
        "d3=d1+d2\n",
        "print(\"Sum of the two Distance is:\")\n",
        "d3.show()\n"
      ]
    },
    {
      "cell_type": "code",
      "source": [
        "class RegularPolygon:\n",
        "      def __init__(self, side):\n",
        "           self.side = side\n",
        "\n",
        "class Square(RegularPolygon):\n",
        "      def area(self):\n",
        "           return self.side * self.side\n",
        "\n",
        "class EquilateralTriangle(RegularPolygon):\n",
        "      def area(self):\n",
        "           return self.side * self.side * 0.4333\n",
        "\n",
        "obj1 = Square(4)\n",
        "obj2 = EquilateralTriangle(3)\n",
        "\n",
        "print(obj1.area())\n",
        "print(obj2.area())"
      ],
      "metadata": {
        "colab": {
          "base_uri": "https://localhost:8080/"
        },
        "id": "24QoXKHYbxwo",
        "outputId": "9afddf8d-a445-4bee-abb2-7c7edb44f0fe"
      },
      "execution_count": null,
      "outputs": [
        {
          "output_type": "stream",
          "name": "stdout",
          "text": [
            "16\n",
            "3.8997\n"
          ]
        }
      ]
    },
    {
      "cell_type": "markdown",
      "source": [
        "SUPPLEMENTARY"
      ],
      "metadata": {
        "id": "2Chmr7HOfMNK"
      }
    },
    {
      "cell_type": "code",
      "source": [
        "import math\n",
        "\n",
        "class RegularPolygon:\n",
        "      def __init__(self, side):\n",
        "           self.side = side\n",
        "\n",
        "class Square(RegularPolygon):\n",
        "      def area(self):\n",
        "           return self.side * self.side\n",
        "\n",
        "class EquilateralTriangle(RegularPolygon):\n",
        "      def area(self):\n",
        "           return self.side * self.side * 0.4333\n",
        "\n",
        "class Triangle(RegularPolygon):\n",
        "      def area(self):\n",
        "           return self.side * self.side * 0.5\n",
        "\n",
        "class Pentagon(RegularPolygon):\n",
        "      def area(self):\n",
        "           return (1/4) * math.sqrt(5*(5 + 2 * math.sqrt(5))) * self.side * self.side\n",
        "\n",
        "class Octagon(RegularPolygon):\n",
        "      def area(self):\n",
        "           return 2 * (1 + math.sqrt(2)) * self.side * self.side\n",
        "\n",
        "obj1 = Square(4)\n",
        "obj2 = EquilateralTriangle(3)\n",
        "obj3 = Triangle(5)\n",
        "obj4 = Pentagon(5)\n",
        "obj5 = Octagon(8)\n",
        "\n",
        "print(\"The area of Square is: \", obj1.area())\n",
        "print(\"The areas of Equilateral Triangle is: \", obj2.area())\n",
        "print(\"The area of Triangle is: \", obj3.area())\n",
        "print(\"The area of Pentagon is: \", obj4.area())\n",
        "print(\"The area of Octagon is: \", obj5.area())"
      ],
      "metadata": {
        "colab": {
          "base_uri": "https://localhost:8080/"
        },
        "id": "Pn9u_x1XfOc5",
        "outputId": "0c177b00-80df-4a19-dd09-0414be675476"
      },
      "execution_count": null,
      "outputs": [
        {
          "output_type": "stream",
          "name": "stdout",
          "text": [
            "The area of Square is:  16\n",
            "The areas of Equilateral Triangle is:  3.8997\n",
            "The area of Triangle is:  12.5\n",
            "The area of Pentagon is:  43.01193501472417\n",
            "The area of Octagon is:  309.01933598375615\n"
          ]
        }
      ]
    }
  ]
}