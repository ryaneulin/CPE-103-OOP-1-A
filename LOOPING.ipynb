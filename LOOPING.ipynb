{
  "nbformat": 4,
  "nbformat_minor": 0,
  "metadata": {
    "colab": {
      "provenance": [],
      "authorship_tag": "ABX9TyOxJlQdWVdsCVOpLem3S6o+",
      "include_colab_link": true
    },
    "kernelspec": {
      "name": "python3",
      "display_name": "Python 3"
    },
    "language_info": {
      "name": "python"
    }
  },
  "cells": [
    {
      "cell_type": "markdown",
      "metadata": {
        "id": "view-in-github",
        "colab_type": "text"
      },
      "source": [
        "<a href=\"https://colab.research.google.com/github/ryaneulin/CPE-103-OOP-1-A/blob/main/LOOPING.ipynb\" target=\"_parent\"><img src=\"https://colab.research.google.com/assets/colab-badge.svg\" alt=\"Open In Colab\"/></a>"
      ]
    },
    {
      "cell_type": "markdown",
      "source": [
        "For Loop"
      ],
      "metadata": {
        "id": "yV3IeHOl4ifl"
      }
    },
    {
      "cell_type": "code",
      "execution_count": null,
      "metadata": {
        "colab": {
          "base_uri": "https://localhost:8080/"
        },
        "id": "wfuY8Ucb4EVO",
        "outputId": "f70ec6d4-0da2-4bfd-91f9-7e65205d9fb9"
      },
      "outputs": [
        {
          "output_type": "stream",
          "name": "stdout",
          "text": [
            "Monday\n",
            "Tuesday\n",
            "Wednesday\n"
          ]
        }
      ],
      "source": [
        "week = [\"Monday\", \"Tuesday\", \"Wednesday\", \"Thursday\", \"Friday\", \"Saturday\", \"Sunday\"]\n",
        "\n",
        "for x in week:\n",
        "  if x == \"Thursday\":\n",
        "    break\n",
        "  print(x)\n"
      ]
    },
    {
      "cell_type": "markdown",
      "source": [
        "The Range Function"
      ],
      "metadata": {
        "id": "INuKxdN44gK8"
      }
    },
    {
      "cell_type": "code",
      "source": [
        "for x in range (6):\n",
        "  print(x)\n",
        "\n",
        "print(\"\\n2nd Example\")\n",
        "\n",
        "for x in range (2, 6):\n",
        "  print(x)"
      ],
      "metadata": {
        "colab": {
          "base_uri": "https://localhost:8080/"
        },
        "id": "pkX-k2L-4Zes",
        "outputId": "792152ef-ca96-4ade-c4bb-2833aa34cbd9"
      },
      "execution_count": null,
      "outputs": [
        {
          "output_type": "stream",
          "name": "stdout",
          "text": [
            "0\n",
            "1\n",
            "2\n",
            "3\n",
            "4\n",
            "5\n",
            "\n",
            "2nd Example\n",
            "2\n",
            "3\n",
            "4\n",
            "5\n"
          ]
        }
      ]
    },
    {
      "cell_type": "markdown",
      "source": [
        "Nesterd Loop"
      ],
      "metadata": {
        "id": "KqVwGtRX5Hb7"
      }
    },
    {
      "cell_type": "code",
      "source": [
        "adjective = [ \"red\", \"big\", \"tasty\" ] #outer\n",
        "\n",
        "fruits = [ \"apple\", \"banana\", \"cherry\" ] #inner\n",
        "\n",
        "for x in adjective:\n",
        "  for y in fruits:\n",
        "    print(x, y)"
      ],
      "metadata": {
        "colab": {
          "base_uri": "https://localhost:8080/"
        },
        "id": "uonJhlZq5G_8",
        "outputId": "e6fa02d3-858f-4eaf-9eb7-fa627b246d8a"
      },
      "execution_count": null,
      "outputs": [
        {
          "output_type": "stream",
          "name": "stdout",
          "text": [
            "red apple\n",
            "red banana\n",
            "red cherry\n",
            "big apple\n",
            "big banana\n",
            "big cherry\n",
            "tasty apple\n",
            "tasty banana\n",
            "tasty cherry\n"
          ]
        }
      ]
    },
    {
      "cell_type": "markdown",
      "source": [
        "Example 5"
      ],
      "metadata": {
        "id": "gOMvKRA16ICl"
      }
    },
    {
      "cell_type": "code",
      "source": [
        "i = 1\n",
        "while i < 6:\n",
        "  print(i)\n",
        "  i += 1"
      ],
      "metadata": {
        "colab": {
          "base_uri": "https://localhost:8080/"
        },
        "id": "2UwHeygb6Jk0",
        "outputId": "556760ae-c51c-485e-dab8-ca82ebf905f6"
      },
      "execution_count": null,
      "outputs": [
        {
          "output_type": "stream",
          "name": "stdout",
          "text": [
            "1\n",
            "2\n",
            "3\n",
            "4\n",
            "5\n"
          ]
        }
      ]
    },
    {
      "cell_type": "markdown",
      "source": [
        "The Break statement"
      ],
      "metadata": {
        "id": "1Fw7X-R-7CYk"
      }
    },
    {
      "cell_type": "code",
      "source": [
        "i =1\n",
        "while i < 6:\n",
        "  print(i)\n",
        "  if i == 3:\n",
        "    break\n",
        "  i += 1\n"
      ],
      "metadata": {
        "colab": {
          "base_uri": "https://localhost:8080/"
        },
        "id": "MUQRlzXE7Ej0",
        "outputId": "f45ea0b0-10e3-410f-fffe-c8a55930c8bd"
      },
      "execution_count": null,
      "outputs": [
        {
          "output_type": "stream",
          "name": "stdout",
          "text": [
            "1\n",
            "2\n",
            "3\n"
          ]
        }
      ]
    },
    {
      "cell_type": "markdown",
      "source": [
        "The Continue Statemnet"
      ],
      "metadata": {
        "id": "CIAkRHEE8kyM"
      }
    },
    {
      "cell_type": "code",
      "source": [
        "i = 1\n",
        "while i < 6:\n",
        "    if i == 3:\n",
        "        i += 1\n",
        "        continue\n",
        "    print(i)\n",
        "    i += 1"
      ],
      "metadata": {
        "colab": {
          "base_uri": "https://localhost:8080/"
        },
        "id": "S2K2tHHC8oJk",
        "outputId": "5c9cb4d0-512a-4486-d0cd-cc3e0ac0c5f6"
      },
      "execution_count": null,
      "outputs": [
        {
          "output_type": "stream",
          "name": "stdout",
          "text": [
            "1\n",
            "2\n",
            "4\n",
            "5\n"
          ]
        }
      ]
    },
    {
      "cell_type": "code",
      "source": [
        "i = 1\n",
        "while i < 6:\n",
        "  print(i)\n",
        "  i += 1\n",
        "else:\n",
        "  print(\"i is no longer less than 6\")"
      ],
      "metadata": {
        "colab": {
          "base_uri": "https://localhost:8080/"
        },
        "id": "02eV4lp8ByzF",
        "outputId": "8f0ebaab-9d79-42d1-db3a-ca578888cb15"
      },
      "execution_count": null,
      "outputs": [
        {
          "output_type": "stream",
          "name": "stdout",
          "text": [
            "1\n",
            "2\n",
            "3\n",
            "4\n",
            "5\n",
            "i is no longer less than 6\n"
          ]
        }
      ]
    },
    {
      "cell_type": "markdown",
      "source": [
        "Application 1"
      ],
      "metadata": {
        "id": "Tt_z_r58CU-8"
      }
    },
    {
      "cell_type": "code",
      "source": [
        "for x in range(0, 11):\n",
        "\n",
        " print(\"Hello\", x)\n",
        "\n"
      ],
      "metadata": {
        "colab": {
          "base_uri": "https://localhost:8080/"
        },
        "id": "tWuJH5jYCUHM",
        "outputId": "c997e83a-46a8-4677-9ffd-c9dedb3db0ed"
      },
      "execution_count": null,
      "outputs": [
        {
          "output_type": "stream",
          "name": "stdout",
          "text": [
            "Hello 0\n",
            "Hello 1\n",
            "Hello 2\n",
            "Hello 3\n",
            "Hello 4\n",
            "Hello 5\n",
            "Hello 6\n",
            "Hello 7\n",
            "Hello 8\n",
            "Hello 9\n",
            "Hello 10\n"
          ]
        }
      ]
    },
    {
      "cell_type": "markdown",
      "source": [
        "PRACTICAL TEST"
      ],
      "metadata": {
        "id": "YpxvW5SGPsJl"
      }
    },
    {
      "cell_type": "code",
      "source": [
        "num = [ 4 , 5, 6, 7, 8, 9,]\n",
        "\n",
        "for y in num:\n",
        "  print (y)"
      ],
      "metadata": {
        "colab": {
          "base_uri": "https://localhost:8080/"
        },
        "id": "LyRri6bGPuEt",
        "outputId": "01294f6a-3dbe-427a-bc2f-1ff96d13ab07"
      },
      "execution_count": 49,
      "outputs": [
        {
          "output_type": "stream",
          "name": "stdout",
          "text": [
            "4\n",
            "5\n",
            "6\n",
            "7\n",
            "8\n",
            "9\n"
          ]
        }
      ]
    }
  ]
}