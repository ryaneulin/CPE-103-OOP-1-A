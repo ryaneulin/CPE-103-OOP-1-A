{
  "nbformat": 4,
  "nbformat_minor": 0,
  "metadata": {
    "colab": {
      "provenance": [],
      "authorship_tag": "ABX9TyMwTNabqPPLJ6OoTxj/fNMP",
      "include_colab_link": true
    },
    "kernelspec": {
      "name": "python3",
      "display_name": "Python 3"
    },
    "language_info": {
      "name": "python"
    }
  },
  "cells": [
    {
      "cell_type": "markdown",
      "metadata": {
        "id": "view-in-github",
        "colab_type": "text"
      },
      "source": [
        "<a href=\"https://colab.research.google.com/github/ryaneulin/CPE-103-OOP-1-A/blob/main/OOP_CONCEPT.ipynb\" target=\"_parent\"><img src=\"https://colab.research.google.com/assets/colab-badge.svg\" alt=\"Open In Colab\"/></a>"
      ]
    },
    {
      "cell_type": "markdown",
      "source": [
        "CLASS CONSTRUCTOR"
      ],
      "metadata": {
        "id": "RbP6HT1E7nXb"
      }
    },
    {
      "cell_type": "code",
      "source": [
        "class Car:\n",
        "  def __init__(self, name, color):\n",
        "    self.name = name\n",
        "    self.color = color\n",
        "\n",
        "  def description(self):\n",
        "    return f\"The {self.name} car is {self.color}.\"\n",
        "\n",
        "    class Audi(Car):\n",
        "      def audi_desc(self):\n",
        "        return \"This is the description method of class Audi.\"\n",
        "\n",
        ""
      ],
      "metadata": {
        "id": "tVM8ID5dAV5S"
      },
      "execution_count": 21,
      "outputs": []
    },
    {
      "cell_type": "code",
      "source": [
        "class Car:\n",
        "    def __init__(self, name, mileage):\n",
        "        self.name = name\n",
        "        self.mileage = mileage\n",
        "\n",
        "    def description(self):\n",
        "        return f\"The {self.name} car gives the mileage of {self.mileage} km/l\"\n",
        "\n",
        "class BMW(Car):\n",
        "    pass\n",
        "\n",
        "class Audi(Car):\n",
        "    def audi_desc(self):\n",
        "        return \"This is the description method of class Audi.\"\n",
        "\n",
        "\n",
        "bmw = BMW(\"BMW 7-series\", 39.53)\n",
        "print(bmw.description())\n",
        "\n",
        "audi = Audi(\"A8 L\", 14)\n",
        "print(audi.audi_desc())"
      ],
      "metadata": {
        "colab": {
          "base_uri": "https://localhost:8080/"
        },
        "id": "MKXKFVeH71La",
        "outputId": "8b09d139-9ca5-4bb8-c2f5-849766cdac65"
      },
      "execution_count": 36,
      "outputs": [
        {
          "output_type": "stream",
          "name": "stdout",
          "text": [
            "The BMW 7-series car gives the mileage of 39.53 km/l\n",
            "This is the description method of class Audi.\n"
          ]
        }
      ]
    },
    {
      "cell_type": "markdown",
      "source": [
        "APPLY THE OOP METHOD LIKE CLASS CONSTRUCTOR, METHODS, INHERITANCE,  OBJECT, INHERITANCE TO DESCRIBE THE SIDES OF 3 SHAPES {E.G. TRIANGLE, SQUARE, RECTANGLE}"
      ],
      "metadata": {
        "id": "hS08xSi5FuGJ"
      }
    },
    {
      "cell_type": "code",
      "source": [
        "print(\"SHAPES\")\n",
        "\n",
        "print(\"\")\n",
        "class Shapes:\n",
        "    def __init__(self, name, sides):\n",
        "        self.sides = sides\n",
        "        self.name = name\n",
        "\n",
        "    def description(self):\n",
        "        return f\"The shape have {self.sides} sides, It is a {self.name}.\"\n",
        "\n",
        "class Triangle(Shapes):\n",
        "   pass\n",
        "\n",
        "class Square(Shapes):\n",
        "   pass\n",
        "\n",
        "class Rectangle(Shapes):\n",
        "   pass\n",
        "\n",
        "\n",
        "triangle = Triangle(\"Triangle\", 3)\n",
        "print(triangle.description())\n",
        "\n",
        "print(\"\")\n",
        "\n",
        "square = Square(\"Square\",4)\n",
        "print(square.description())\n",
        "print(\"\")\n",
        "\n",
        "rectangle = Rectangle(\"Rectangle\",4)\n",
        "print(rectangle.description())"
      ],
      "metadata": {
        "colab": {
          "base_uri": "https://localhost:8080/"
        },
        "id": "JeMyRzojGDG6",
        "outputId": "4525c622-9813-423e-d299-1c0bfc9e378a"
      },
      "execution_count": 56,
      "outputs": [
        {
          "output_type": "stream",
          "name": "stdout",
          "text": [
            "SHAPES\n",
            "\n",
            "The shape have 3 sides, It is a Triangle.\n",
            "\n",
            "The shape have 4 sides, It is a Square.\n",
            "\n",
            "The shape have 4 sides, It is a Rectangle.\n"
          ]
        }
      ]
    }
  ]
}