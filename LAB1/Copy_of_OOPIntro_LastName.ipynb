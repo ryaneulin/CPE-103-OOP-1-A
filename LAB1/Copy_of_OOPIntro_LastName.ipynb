{
  "cells": [
    {
      "cell_type": "markdown",
      "metadata": {
        "id": "view-in-github",
        "colab_type": "text"
      },
      "source": [
        "<a href=\"https://colab.research.google.com/github/ryaneulin/CPE-103-OOP-1-A/blob/main/Copy_of_OOPIntro_LastName.ipynb\" target=\"_parent\"><img src=\"https://colab.research.google.com/assets/colab-badge.svg\" alt=\"Open In Colab\"/></a>"
      ]
    },
    {
      "cell_type": "markdown",
      "metadata": {
        "id": "yo7Jy4t-rTQd"
      },
      "source": [
        "Accounts.py"
      ]
    },
    {
      "cell_type": "code",
      "execution_count": null,
      "metadata": {
        "id": "HK7Qw7rLqRIt"
      },
      "outputs": [],
      "source": [
        "\"\"\"\n",
        "    Account.self\n",
        "\"\"\"\n",
        "\n",
        "class Account():\n",
        "    account_number = 0\n",
        "    account_firstname = \" \"\n",
        "    account_lastname = \" \"\n",
        "    current_balance = 0.0\n",
        "    address = \" \"\n",
        "    email = \" \"\n",
        "\n",
        "    def update_address(new_address):\n",
        "        Account.address = new_address\n",
        "\n",
        "    def update_email(new_email):\n",
        "        Account.email = new_email\n"
      ]
    },
    {
      "cell_type": "markdown",
      "metadata": {
        "id": "GnQQoXxgrjd0"
      },
      "source": [
        "ATM.py"
      ]
    },
    {
      "cell_type": "code",
      "execution_count": null,
      "metadata": {
        "id": "-QNf37yNrm2k"
      },
      "outputs": [],
      "source": [
        "\"\"\"\n",
        "    ATM.py\n",
        "\"\"\"\n",
        "\n",
        "class ATM():\n",
        "     serial_number = 0\n",
        "\n",
        "     def deposit(self, account, amount):\n",
        "         account.current_balance = account.current_balance + amount\n",
        "         print(\"Deposit Complete\")\n",
        "\n",
        "     def withdraw(self, account, amount):\n",
        "         account.current_balance = account.current_balance - amount\n",
        "         print(\"Withdraw Complete\")\n",
        "\n",
        "     def check_currentbalance(self, account):\n",
        "         print (account.current_balance)\n"
      ]
    },
    {
      "cell_type": "markdown",
      "metadata": {
        "id": "Wxy9hzLvse_l"
      },
      "source": [
        "Main.py"
      ]
    },
    {
      "cell_type": "code",
      "execution_count": null,
      "metadata": {
        "colab": {
          "base_uri": "https://localhost:8080/"
        },
        "id": "T51anQBQshB9",
        "outputId": "6c2d7c37-0020-4862-88a5-952042e4db1b"
      },
      "outputs": [
        {
          "output_type": "stream",
          "name": "stdout",
          "text": [
            "Account 1\n",
            "Royce\n",
            "Chua\n",
            "1000\n",
            "Silver Street Quezon City\n",
            "roycechua123@gmail.com\n",
            "\n",
            "Account 2 \n",
            "John\n",
            "Doe\n",
            "2000\n",
            "Gold Street Quezon City\n",
            "johndoe@yahoo.com\n"
          ]
        }
      ],
      "source": [
        "\"\"\"\n",
        "    main.py\n",
        "\"\"\"\n",
        "\n",
        "\n",
        "Account1 = Account()\n",
        "\n",
        "\n",
        "print(\"Account 1\")\n",
        "Account1.account_firstname = \"Royce\"\n",
        "Account1.account_lastname = \"Chua\"\n",
        "Account1.current_balance = 1000\n",
        "Account1.address = \"Silver Street Quezon City\"\n",
        "Account1.email = \"roycechua123@gmail.com\"\n",
        "\n",
        "print(Account1.account_firstname)\n",
        "print(Account1.account_lastname)\n",
        "print(Account1.current_balance)\n",
        "print(Account1.address)\n",
        "print(Account1.email)\n",
        "\n",
        "print()\n",
        "Account2 = Account()\n",
        "Account2.account_firstname = \"John\"\n",
        "Account2.account_lastname = \"Doe\"\n",
        "Account2.current_balance = 2000\n",
        "Account2.address = \"Gold Street Quezon City\"\n",
        "Account2.email = \"johndoe@yahoo.com\"\n",
        "\n",
        "print(\"Account 2 \")\n",
        "print(Account2.account_firstname)\n",
        "print(Account2.account_lastname)\n",
        "print(Account2.current_balance)\n",
        "print(Account2.address)\n",
        "print(Account2.email)"
      ]
    },
    {
      "cell_type": "code",
      "execution_count": null,
      "metadata": {
        "id": "hZxRIZmnwCw0",
        "colab": {
          "base_uri": "https://localhost:8080/"
        },
        "outputId": "01cec45b-dca9-49eb-b805-28d98b09e104"
      },
      "outputs": [
        {
          "output_type": "stream",
          "name": "stdout",
          "text": [
            "Account 1\n",
            "First Name: Royce\n",
            "Last Name: Chua\n",
            "Current Balance: 1000\n",
            "Address: Solver Street Quezon City\n",
            "Email: roycechua123@gmail.com\n",
            "\n",
            "Account 2\n",
            "First Name: John\n",
            "Last Name: Doe\n",
            "Current Balance: 2000\n",
            "Address: Gold Street Quezon City\n",
            "Email: john.doe@yahoo.com\n",
            "Deposit Complete\n",
            "1500\n",
            "Deposit Complete\n",
            "2300\n"
          ]
        }
      ],
      "source": [
        "\"\"\"\n",
        "    main.py\n",
        "\"\"\"\n",
        "\n",
        "\n",
        "Account1 = Account()\n",
        "\n",
        "print(\"Account 1\")\n",
        "Account1.account_firstname = \"Royce\"\n",
        "Account1.account_lastname = \"Chua\"\n",
        "Account1.current_balance = 1000\n",
        "Account1.address = \"Solver Street Quezon City\"\n",
        "Account1.email = \"roycechua123@gmail.com\"\n",
        "\n",
        "print(\"First Name:\", Account1.account_firstname)\n",
        "print(\"Last Name:\", Account1.account_lastname)\n",
        "print(\"Current Balance:\", Account1.current_balance)\n",
        "print(\"Address:\", Account1.address)\n",
        "print(\"Email:\", Account1.email)\n",
        "\n",
        "print()\n",
        "\n",
        "\n",
        "Account2 = Account()\n",
        "\n",
        "print(\"Account 2\")\n",
        "Account2.account_firstname = \"John\"\n",
        "Account2.account_lastname = \"Doe\"\n",
        "Account2.current_balance = 2000\n",
        "Account2.address = \"Gold Street Quezon City\"\n",
        "Account2.email = \"john.doe@yahoo.com\"\n",
        "\n",
        "print(\"First Name:\", Account2.account_firstname)\n",
        "print(\"Last Name:\", Account2.account_lastname)\n",
        "print(\"Current Balance:\", Account2.current_balance)\n",
        "print(\"Address:\", Account2.address)\n",
        "print(\"Email:\", Account2.email)\n",
        "\n",
        "ATM1 = ATM()\n",
        "ATM1.deposit(Account1,500)\n",
        "ATM1.check_currentbalance(Account1)\n",
        "ATM1.deposit(Account2,300)\n",
        "ATM1.check_currentbalance(Account2)\n"
      ]
    },
    {
      "cell_type": "code",
      "execution_count": null,
      "metadata": {
        "id": "tG7cdxRFxEZs"
      },
      "outputs": [],
      "source": [
        "\"\"\"\n",
        "    Account.self\n",
        "\"\"\"\n",
        "\n",
        "class Account():\n",
        "  def __init__(self, account_number, account_firstname, account_lastname, current_balance, address, email):\n",
        "    self.account_number = account_number\n",
        "    self.account_firstname = account_firstname\n",
        "    self.account_lastname = account_lastname\n",
        "    self.current_balance = current_balance\n",
        "    self.address = address\n",
        "    self.email = email\n",
        "\n",
        "  def update_address(self, new_address):\n",
        "     self.address = new_address\n",
        "\n",
        "  def update_email(self, new_email):\n",
        "    self.email = new_email\n",
        "\n"
      ]
    },
    {
      "cell_type": "code",
      "execution_count": null,
      "metadata": {
        "colab": {
          "base_uri": "https://localhost:8080/"
        },
        "id": "2AeYp0gFx4-d",
        "outputId": "24a902ab-7969-4e65-bce8-c94eb695a730"
      },
      "outputs": [
        {
          "output_type": "stream",
          "name": "stdout",
          "text": [
            "Account 1\n",
            "First Name: Royce\n",
            "Last Name: Chua\n",
            "Current Balance: 1000\n",
            "Address: Solver Street Quezon City\n",
            "Email: roycechua123@gmail.com\n",
            "\n",
            "Account 2\n",
            "First Name: John\n",
            "Last Name: Doe\n",
            "Current Balance: 2000\n",
            "Address: Gold Street Quezon City\n",
            "Email: john.doe@yahoo.com\n"
          ]
        }
      ],
      "source": [
        "\"\"\"\n",
        "    main.py\n",
        "\"\"\"\n",
        "\n",
        "\n",
        "Account1 = Account(account_number=123456,\n",
        "                   account_firstname=\"Royce\",\n",
        "                   account_lastname=\"Chua\",\n",
        "                   current_balance=1000,\n",
        "                   address=\"Solver Street Quezon City\",\n",
        "                   email=\"roycechua123@gmail.com\")\n",
        "\n",
        "\n",
        "print(\"Account 1\")\n",
        "print(\"First Name:\", Account1.account_firstname)\n",
        "print(\"Last Name:\", Account1.account_lastname)\n",
        "print(\"Current Balance:\", Account1.current_balance)\n",
        "print(\"Address:\", Account1.address)\n",
        "print(\"Email:\", Account1.email)\n",
        "\n",
        "print()\n",
        "\n",
        "\n",
        "Account2 = Account(account_number=65431,\n",
        "                   account_firstname=\"John\",\n",
        "                   account_lastname=\"Doe\",\n",
        "                   current_balance=2000,\n",
        "                   address=\"Gold Street Quezon City\",\n",
        "                   email=\"john.doe@yahoo.com\")\n",
        "\n",
        "\n",
        "print(\"Account 2\")\n",
        "print(\"First Name:\", Account2.account_firstname)\n",
        "print(\"Last Name:\", Account2.account_lastname)\n",
        "print(\"Current Balance:\", Account2.current_balance)\n",
        "print(\"Address:\", Account2.address)\n",
        "print(\"Email:\", Account2.email)"
      ]
    },
    {
      "cell_type": "code",
      "execution_count": null,
      "metadata": {
        "id": "TnJMJix5EL5_"
      },
      "outputs": [],
      "source": [
        "#1.\n",
        "\n",
        "\n",
        "class ATM:\n",
        "    def __init__(self, serial_number):\n",
        "        self.serial_number = serial_number\n",
        "        self.transaction_summary = []\n",
        "\n",
        "    def deposit(self, account, amount):\n",
        "        account.current_balance += amount\n",
        "        self.transaction_summary.append(f\"Deposited: {amount}\")\n",
        "        print(\"Deposit Complete\")\n",
        "\n",
        "    def withdraw(self, account, amount):\n",
        "        if amount > account.current_balance:\n",
        "            print(\"Insufficient funds for withdrawal.\")\n",
        "            return\n",
        "        account.current_balance -= amount\n",
        "        self.transaction_summary.append(f\"Withdrew: {amount}\")\n",
        "        print(\"Withdraw Complete\")\n",
        "\n",
        "    def check_current_balance(self, account):\n",
        "        print(f\"Current Balance: {account.current_balance}\")\n",
        "\n",
        "    def view_transaction_summary(self):\n",
        "        print(\"Transaction Summary:\")\n",
        "        for transaction in self.transaction_summary:\n",
        "            print(transaction)\n"
      ]
    },
    {
      "cell_type": "code",
      "execution_count": null,
      "metadata": {
        "colab": {
          "base_uri": "https://localhost:8080/"
        },
        "id": "dQnTPwfTEQZ3",
        "outputId": "a5480b9d-9449-4cd4-bb1d-242c4f177a03"
      },
      "outputs": [
        {
          "output_type": "stream",
          "name": "stdout",
          "text": [
            "ATM Serial Number: 123456\n",
            "Account 1\n",
            "First Name: Royce\n",
            "Last Name: Chua\n",
            "Current Balance: 1000\n",
            "Address: Solver Street Quezon City\n",
            "Email: roycechua123@gmail.com\n",
            "\n",
            "Account 2\n",
            "First Name: John\n",
            "Last Name: Doe\n",
            "Current Balance: 2000\n",
            "Address: Gold Street Quezon City\n",
            "Email: john.doe@yahoo.com\n",
            "\n",
            "ATM Serial Number: 123456\n"
          ]
        }
      ],
      "source": [
        "\"\"\"\n",
        "    main.py\n",
        "\"\"\"\n",
        "\n",
        "atm_machine = ATM(serial_number=123456)\n",
        "\n",
        "\n",
        "print(f\"ATM Serial Number: {atm_machine.serial_number}\")\n",
        "\n",
        "\n",
        "Account1 = Account(account_number=123456,\n",
        "                   account_firstname=\"Royce\",\n",
        "                   account_lastname=\"Chua\",\n",
        "                   current_balance=1000,\n",
        "                   address=\"Solver Street Quezon City\",\n",
        "                   email=\"roycechua123@gmail.com\")\n",
        "\n",
        "\n",
        "print(\"Account 1\")\n",
        "print(\"First Name:\", Account1.account_firstname)\n",
        "print(\"Last Name:\", Account1.account_lastname)\n",
        "print(\"Current Balance:\", Account1.current_balance)\n",
        "print(\"Address:\", Account1.address)\n",
        "print(\"Email:\", Account1.email)\n",
        "\n",
        "print()\n",
        "\n",
        "\n",
        "Account2 = Account(account_number=65431,\n",
        "                   account_firstname=\"John\",\n",
        "                   account_lastname=\"Doe\",\n",
        "                   current_balance=2000,\n",
        "                   address=\"Gold Street Quezon City\",\n",
        "                   email=\"john.doe@yahoo.com\")\n",
        "\n",
        "\n",
        "print(\"Account 2\")\n",
        "print(\"First Name:\", Account2.account_firstname)\n",
        "print(\"Last Name:\", Account2.account_lastname)\n",
        "print(\"Current Balance:\", Account2.current_balance)\n",
        "print(\"Address:\", Account2.address)\n",
        "print(\"Email:\", Account2.email)\n",
        "\n",
        "\n",
        "print(f\"\\nATM Serial Number: {atm_machine.serial_number}\")"
      ]
    },
    {
      "cell_type": "code",
      "execution_count": null,
      "metadata": {
        "id": "2D3TTXGVEkUG"
      },
      "outputs": [],
      "source": [
        "#3\n",
        "\n",
        "\n",
        "\n",
        "class ATM:\n",
        "    def __init__(self, serial_number):\n",
        "        self.serial_number = serial_number\n",
        "        self.transaction_summary = []\n",
        "\n",
        "    def deposit(self, account, amount):\n",
        "        account.current_balance += amount\n",
        "        self.transaction_summary.append(f\"Deposited: {amount} to {account.account_firstname} {account.account_lastname}\")\n",
        "        print(\"Deposit Complete\")\n",
        "\n",
        "    def withdraw(self, account, amount):\n",
        "        if amount > account.current_balance:\n",
        "            print(\"Insufficient funds for withdrawal.\")\n",
        "            return\n",
        "        account.current_balance -= amount\n",
        "        self.transaction_summary.append(f\"Withdrew: {amount} from {account.account_firstname} {account.account_lastname}\")\n",
        "        print(\"Withdraw Complete\")\n",
        "\n",
        "    def check_current_balance(self, account):\n",
        "        print(f\"Current Balance: {account.current_balance}\")\n",
        "\n",
        "    def view_transaction_summary(self):\n",
        "        print(\"Transaction Summary:\")\n",
        "        if not self.transaction_summary:\n",
        "            print(\"No transactions have been made.\")\n",
        "        else:\n",
        "         for transaction in self.transaction_summary:\n",
        "                print(transaction)"
      ]
    }
  ],
  "metadata": {
    "colab": {
      "provenance": [],
      "authorship_tag": "ABX9TyPHgJ7o8MTvi1UwAviYQ52s",
      "include_colab_link": true
    },
    "kernelspec": {
      "display_name": "Python 3",
      "name": "python3"
    },
    "language_info": {
      "name": "python"
    }
  },
  "nbformat": 4,
  "nbformat_minor": 0
}