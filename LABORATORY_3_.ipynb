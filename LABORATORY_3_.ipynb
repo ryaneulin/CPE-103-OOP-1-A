{
  "nbformat": 4,
  "nbformat_minor": 0,
  "metadata": {
    "colab": {
      "provenance": [],
      "authorship_tag": "ABX9TyMiVDHuXGqGrZGFiYq5mVLG",
      "include_colab_link": true
    },
    "kernelspec": {
      "name": "python3",
      "display_name": "Python 3"
    },
    "language_info": {
      "name": "python"
    }
  },
  "cells": [
    {
      "cell_type": "markdown",
      "metadata": {
        "id": "view-in-github",
        "colab_type": "text"
      },
      "source": [
        "<a href=\"https://colab.research.google.com/github/ryaneulin/CPE-103-OOP-1-A/blob/main/LABORATORY_3_.ipynb\" target=\"_parent\"><img src=\"https://colab.research.google.com/assets/colab-badge.svg\" alt=\"Open In Colab\"/></a>"
      ]
    },
    {
      "cell_type": "markdown",
      "source": [
        "DATA TYPES"
      ],
      "metadata": {
        "id": "VWJKuSQR2Z8O"
      }
    },
    {
      "cell_type": "code",
      "execution_count": null,
      "metadata": {
        "colab": {
          "base_uri": "https://localhost:8080/"
        },
        "id": "x0Naqo8i2DV1",
        "outputId": "7e93a5ef-7e4c-4502-e179-f277b48f3ef8"
      },
      "outputs": [
        {
          "output_type": "stream",
          "name": "stdout",
          "text": [
            "\n"
          ]
        }
      ],
      "source": [
        "value = 5\n",
        "\n",
        "print()"
      ]
    },
    {
      "cell_type": "code",
      "source": [
        "type(value)"
      ],
      "metadata": {
        "colab": {
          "base_uri": "https://localhost:8080/"
        },
        "id": "abc83Uvw3Cdl",
        "outputId": "1e48e7f7-3f3f-4a92-8b6c-effcbdd0d719"
      },
      "execution_count": null,
      "outputs": [
        {
          "output_type": "execute_result",
          "data": {
            "text/plain": [
              "int"
            ]
          },
          "metadata": {},
          "execution_count": 2
        }
      ]
    },
    {
      "cell_type": "code",
      "source": [
        "\n",
        "#3,4\n",
        "value = 5.0\n",
        "\n",
        "print(value)"
      ],
      "metadata": {
        "colab": {
          "base_uri": "https://localhost:8080/"
        },
        "id": "wCbih6CP3INF",
        "outputId": "e02badf4-fe50-4522-f5ff-cdfc5f41082a"
      },
      "execution_count": null,
      "outputs": [
        {
          "output_type": "stream",
          "name": "stdout",
          "text": [
            "5.0\n"
          ]
        }
      ]
    },
    {
      "cell_type": "code",
      "source": [
        "\n",
        "\n",
        "\n",
        "#5\n",
        "value = 2 + 3j\n",
        "print(value)\n",
        "\n",
        "value = 'Hello World'\n",
        "print(value)\n",
        "\n",
        "value = \"Hello World\"\n",
        "print(value)\n",
        "\n",
        "value = True\n",
        "print(value)\n",
        "\n",
        "value = False\n",
        "print(value)\n",
        "\n",
        "value = [1,2,3,4,5]\n",
        "print(value)\n",
        "\n",
        "value = (1,2,3,4,5)\n",
        "print(value)\n",
        "\n",
        "value = {'name:' 'Ryan'}\n",
        "print(value)\n",
        "\n",
        "\n",
        "value = None\n",
        "print(value)\n",
        "\n"
      ],
      "metadata": {
        "colab": {
          "base_uri": "https://localhost:8080/"
        },
        "id": "aSC46FVv3Yo-",
        "outputId": "044f9a7f-8d27-4efb-ca15-204741cced30"
      },
      "execution_count": null,
      "outputs": [
        {
          "output_type": "stream",
          "name": "stdout",
          "text": [
            "(2+3j)\n",
            "Hello World\n",
            "Hello World\n",
            "True\n",
            "False\n",
            "[1, 2, 3, 4, 5]\n",
            "(1, 2, 3, 4, 5)\n",
            "{'name:Ryan'}\n",
            "None\n"
          ]
        }
      ]
    },
    {
      "cell_type": "code",
      "source": [
        "value = 5"
      ],
      "metadata": {
        "id": "-YphK_-C5fkG"
      },
      "execution_count": null,
      "outputs": []
    },
    {
      "cell_type": "code",
      "source": [
        "value2 = -6"
      ],
      "metadata": {
        "id": "55A4UrxN5ldN"
      },
      "execution_count": null,
      "outputs": []
    },
    {
      "cell_type": "markdown",
      "source": [
        "Performing Operations with Python"
      ],
      "metadata": {
        "id": "c9vESYE75pQt"
      }
    },
    {
      "cell_type": "code",
      "source": [
        "value = 5\n",
        "value2 = -6\n",
        "\n",
        "print(value+value2)"
      ],
      "metadata": {
        "colab": {
          "base_uri": "https://localhost:8080/"
        },
        "id": "liRatc6J5wj1",
        "outputId": "d7b12b56-73a5-41ea-c040-f6606b9d4254"
      },
      "execution_count": null,
      "outputs": [
        {
          "output_type": "stream",
          "name": "stdout",
          "text": [
            "-1\n"
          ]
        }
      ]
    },
    {
      "cell_type": "code",
      "source": [
        "value = 5.0\n",
        "value2 = -6\n",
        "\n",
        "print(value+value2)\n",
        "\n",
        "value = -5\n",
        "value2 = 6.1\n",
        "\n",
        "print(value+value2)\n",
        "\n",
        "value = 'Hello\\t'\n",
        "value2 = 'world'\n",
        "\n",
        "print(value+value2)"
      ],
      "metadata": {
        "colab": {
          "base_uri": "https://localhost:8080/"
        },
        "id": "DsLZnLUA6I5t",
        "outputId": "f401c386-201e-4062-87b4-295b4683363e"
      },
      "execution_count": null,
      "outputs": [
        {
          "output_type": "stream",
          "name": "stdout",
          "text": [
            "-1.0\n",
            "1.0999999999999996\n",
            "Hello\tworld\n"
          ]
        }
      ]
    },
    {
      "cell_type": "code",
      "source": [
        "#2\n",
        "value = 5.0\n",
        "value2 = -6\n",
        "\n",
        "print(value+value2)\n",
        "\n",
        "value = -5\n",
        "value2 = 6.1\n",
        "\n",
        "print(value+value2)\n",
        "\n",
        "value = 'Hello\\t'\n",
        "value2 = 'world'\n",
        "\n",
        "print(value+value2)\n",
        "value = [1,2,3]\n",
        "value2 =  [4,5,6]\n",
        "print(value+value2)\n",
        "\n",
        "value = (1,2,3)\n",
        "value2 = (4,5,6)\n",
        "print(value+value2)\n",
        "\n",
        "value = {\"name\": \"Ryan\"}\n",
        "value2 = {\"age\" :2}\n",
        "\n",
        "result = value.copy()\n",
        "result.update(value2)\n",
        "print(result)\n"
      ],
      "metadata": {
        "colab": {
          "base_uri": "https://localhost:8080/"
        },
        "id": "UPU7Xklm6m-F",
        "outputId": "3fbdeb3c-d0a5-4ac1-82a2-29d178aa5de8"
      },
      "execution_count": null,
      "outputs": [
        {
          "output_type": "stream",
          "name": "stdout",
          "text": [
            "-1.0\n",
            "1.0999999999999996\n",
            "Hello\tworld\n",
            "[1, 2, 3, 4, 5, 6]\n",
            "(1, 2, 3, 4, 5, 6)\n",
            "{'name': 'Ryan', 'age': 2}\n"
          ]
        }
      ]
    },
    {
      "cell_type": "code",
      "source": [
        "#3,4\n",
        "value, value2 = 30, 4\n",
        "\n",
        "print(value * value2)\n",
        "print(value2 ** 2)\n",
        "print(value2 ** 3)\n",
        "print(value * value2 + value2 ** 2 + 1)\n",
        "print(value / value2)\n",
        "print(value % value2)"
      ],
      "metadata": {
        "colab": {
          "base_uri": "https://localhost:8080/"
        },
        "id": "0YZ8wFDU_XUV",
        "outputId": "818d96e5-9129-421c-f6c0-aa8bdeeb0c7d"
      },
      "execution_count": null,
      "outputs": [
        {
          "output_type": "stream",
          "name": "stdout",
          "text": [
            "120\n",
            "16\n",
            "64\n",
            "137\n",
            "7.5\n",
            "2\n"
          ]
        }
      ]
    },
    {
      "cell_type": "code",
      "source": [
        "#5\n",
        "name = input(\"Enter your name: \")\n",
        "\n",
        "weight = float(input(\"Enter your weight (kg): \"))\n",
        "\n",
        "height = float(input(\"Enter your height (meters): \"))\n",
        "\n",
        "bmi = weight / (height ** 2)\n",
        "\n",
        "print(f\"{name}, your BMI is: {bmi:.2f}\")"
      ],
      "metadata": {
        "colab": {
          "base_uri": "https://localhost:8080/"
        },
        "id": "8RvCywY-_2EN",
        "outputId": "d3c6ab76-6482-4c28-fbcc-21253815ca94"
      },
      "execution_count": null,
      "outputs": [
        {
          "output_type": "stream",
          "name": "stdout",
          "text": [
            "Enter your name: Ryan\n",
            "Enter your weight (kg): 48\n",
            "Enter your height (meters): 1.63\n",
            "Ryan, your BMI is: 18.07\n"
          ]
        }
      ]
    },
    {
      "cell_type": "code",
      "source": [
        "#6\n",
        "name = \"John Ray\"\n",
        "weight = 60\n",
        "height = 1.6764\n",
        "bmi = 21.3499\n",
        "\n",
        "\n",
        "print(\"Name: \" + name)\n",
        "print(\"Weight: \" + str(weight) + \" kg\")\n",
        "print(\"Height: \" + str(height) + \" m\")\n",
        "print(\"BMI: \" + str(bmi))\n",
        "\n",
        "\n",
        "print(\"Guide: 5.5 feet ~ \" + str(height) + \" m\")"
      ],
      "metadata": {
        "colab": {
          "base_uri": "https://localhost:8080/"
        },
        "id": "e9cih45FAxse",
        "outputId": "745c8207-7436-4f24-d244-6b031bd8ba4c"
      },
      "execution_count": null,
      "outputs": [
        {
          "output_type": "stream",
          "name": "stdout",
          "text": [
            "Name: John Ray\n",
            "Weight: 60 kg\n",
            "Height: 1.6764 m\n",
            "BMI: 21.3499\n",
            "Guide: 5.5 feet ~ 1.6764 m\n"
          ]
        }
      ]
    },
    {
      "cell_type": "code",
      "source": [
        "#Task\n",
        "\n",
        "print(\"Triangle\")\n",
        "base = float(input(\"Enter the base of the triangle: \"))\n",
        "height = float(input(\"Enter the height of the triangle: \"))\n",
        "area = (1 / 2) * base * height\n",
        "print(f\"The area of the triangle is {area:.6f}\")\n",
        "\n",
        "print(\"\")\n",
        "print(\"Celsius to Fahrenheit \")\n",
        "celsius = float(input(\"Enter temperature in Celsius: \"))\n",
        "fahrenheit = (celsius * 9 / 5) + 32\n",
        "print(f\"{celsius}°C = {fahrenheit}°F\")\n",
        "\n",
        "print(\"\")\n",
        "print(\"Distance Between Two Points\")\n",
        "x1, y1 = map(float, input(\"Enter coordinates for point 1 (x1 y1): \").split())\n",
        "x2, y2 = map(float, input(\"Enter coordinates for point 2 (x2 y2): \").split())\n",
        "distance = ((x2 - x1) ** 2 + (y2 - y1) ** 2) ** 0.5\n",
        "print(f\"The distance between the points is: {distance}\")"
      ],
      "metadata": {
        "colab": {
          "base_uri": "https://localhost:8080/"
        },
        "id": "A6O2yNN4BClG",
        "outputId": "34a60b0b-e3e5-426f-b6f0-37907beb228e"
      },
      "execution_count": null,
      "outputs": [
        {
          "output_type": "stream",
          "name": "stdout",
          "text": [
            "Triangle\n",
            "Enter the base of the triangle: 34\n",
            "Enter the height of the triangle: 56\n",
            "The area of the triangle is 952.000000\n",
            "\n",
            "Celsius to Fahrenheit \n",
            "Enter temperature in Celsius: 0\n",
            "0.0°C = 32.0°F\n",
            "\n",
            "Distance Between Two Points\n",
            "Enter coordinates for point 1 (x1 y1): 2 2\n",
            "Enter coordinates for point 2 (x2 y2): -3 3\n",
            "The distance between the points is: 5.0990195135927845\n"
          ]
        }
      ]
    }
  ]
}