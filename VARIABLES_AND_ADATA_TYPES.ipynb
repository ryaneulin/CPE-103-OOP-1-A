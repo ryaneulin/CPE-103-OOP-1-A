{
  "nbformat": 4,
  "nbformat_minor": 0,
  "metadata": {
    "colab": {
      "provenance": [],
      "authorship_tag": "ABX9TyPwlBgvLcwy8LL6byck4XoS",
      "include_colab_link": true
    },
    "kernelspec": {
      "name": "python3",
      "display_name": "Python 3"
    },
    "language_info": {
      "name": "python"
    }
  },
  "cells": [
    {
      "cell_type": "markdown",
      "metadata": {
        "id": "view-in-github",
        "colab_type": "text"
      },
      "source": [
        "<a href=\"https://colab.research.google.com/github/ryaneulin/CPE-103-OOP-1-A/blob/main/VARIABLES_AND_ADATA_TYPES.ipynb\" target=\"_parent\"><img src=\"https://colab.research.google.com/assets/colab-badge.svg\" alt=\"Open In Colab\"/></a>"
      ]
    },
    {
      "cell_type": "markdown",
      "source": [
        "VARIABLES AND DATA TYPES"
      ],
      "metadata": {
        "id": "m-MLOgPu0you"
      }
    },
    {
      "cell_type": "code",
      "execution_count": 6,
      "metadata": {
        "id": "xfQmZa8f0x2w"
      },
      "outputs": [],
      "source": [
        "#Numbers\n",
        "vaNum = 123\n",
        "pi = 3.12159\n",
        "\n",
        "\n",
        "#Strings\n",
        "varString = \"Hello World\"\n",
        "varText = \" This is a String\"\n",
        "\n",
        "#Lists\n",
        "varList = [\"abc\", 123]\n",
        "\n",
        "#Tuples\n",
        "varTuple = ( 'abc' , 123, \"HELLO\")\n",
        "\n",
        "#Dictionaries\n",
        "var = 3\n",
        "varDict = {\"first\" : 1 ,\"2\": '2nd', 3 :var}\n",
        "varDict = {}\n",
        "varDict['First'] = 1\n",
        "varDict['2'] = '2nd'\n",
        "varDict[3] = var"
      ]
    },
    {
      "cell_type": "markdown",
      "source": [
        "Arithmetic  "
      ],
      "metadata": {
        "id": "K-hzZPF92rx1"
      }
    },
    {
      "cell_type": "code",
      "source": [
        "#Addition\n",
        "\n",
        "a = 5 + 3\n",
        "\n",
        "#Subtraction\n",
        "a = 5 - 3\n",
        "\n",
        "#Multiplication\n",
        "a = 5 * 3\n",
        "\n",
        "#Division\n",
        "a = 5 / 3\n",
        "\n",
        "#Modulus\n",
        "a = 5 % 3\n",
        "\n",
        "#Exponent\n",
        "a = 5 ** 3\n",
        "\n",
        "#Floor Division\n",
        "a = 5 // 3\n",
        "\n",
        "#Increment/Decrement\n",
        "a = 5\n",
        "a += 1\n",
        "\n",
        "#Decrement\n",
        "a = 5\n",
        "a -= 4\n",
        "\n",
        "#String Concatenation\n",
        "a = \"Hello\" + \"World\"\n",
        "\n",
        "#Complex Expressions\n",
        "a = 3 + 5 - 6 * 2 / 4"
      ],
      "metadata": {
        "id": "gUQPuc2H1BQH"
      },
      "execution_count": 8,
      "outputs": []
    },
    {
      "cell_type": "markdown",
      "source": [
        "CONDITIONAL STATEMENTS"
      ],
      "metadata": {
        "id": "yWXlShfQ3yD9"
      }
    },
    {
      "cell_type": "code",
      "source": [
        "#Boolean\n",
        "x = True\n",
        "\n",
        "if x:\n",
        "    print(\"x is True\")\n",
        "else:\n",
        "    print(\"x is False\")\n",
        "\n",
        "\n",
        "\n",
        "\n",
        "#String Conditions\n",
        "x = \"Hello World\"\n",
        "if x == \"Hello World\":\n",
        "            print(\"Var x is Hello World\")\n",
        "else:\n",
        "            print(\"Var x is not Hello World\")\n",
        "\n",
        "\n",
        "#Numerical Conditons\n",
        "x = 10\n",
        "if x == 10:\n",
        "                 print(\"Var x is string\")\n",
        "elif x > 10:\n",
        "                 print(\"Var x is an integer\")\n",
        "else:\n",
        "                   print(\"Var x is none of the above\")\n",
        "\n",
        "\n"
      ],
      "metadata": {
        "colab": {
          "base_uri": "https://localhost:8080/"
        },
        "id": "z6GJqmMW3074",
        "outputId": "8c180bbf-226e-46c2-d18f-6275ec803fa0"
      },
      "execution_count": 15,
      "outputs": [
        {
          "output_type": "stream",
          "name": "stdout",
          "text": [
            "x is True\n",
            "Var x is Hello World\n",
            "Var x is string\n"
          ]
        }
      ]
    },
    {
      "cell_type": "markdown",
      "source": [
        "LOOP"
      ],
      "metadata": {
        "id": "6sdOvyK871M2"
      }
    },
    {
      "cell_type": "code",
      "source": [
        "#For LOOP\n",
        "for var in range (0, 5, 2):\n",
        "  print (var)\n",
        "\n",
        "\n"
      ],
      "metadata": {
        "colab": {
          "base_uri": "https://localhost:8080/"
        },
        "id": "lRrftfFU74Ud",
        "outputId": "6a866017-ff13-4c6b-de58-853c365c7ab2"
      },
      "execution_count": 16,
      "outputs": [
        {
          "output_type": "stream",
          "name": "stdout",
          "text": [
            "0\n",
            "2\n",
            "4\n"
          ]
        }
      ]
    },
    {
      "cell_type": "code",
      "source": [
        "#While Loop\n",
        "var = 0\n",
        "while var < 5:\n",
        "  print (var)\n",
        "  var += 1"
      ],
      "metadata": {
        "colab": {
          "base_uri": "https://localhost:8080/"
        },
        "id": "sG9oHx1-8F5e",
        "outputId": "5b995e86-9c8a-49fe-b4f7-4b1a86aa3aba"
      },
      "execution_count": 17,
      "outputs": [
        {
          "output_type": "stream",
          "name": "stdout",
          "text": [
            "0\n",
            "1\n",
            "2\n",
            "3\n",
            "4\n"
          ]
        }
      ]
    },
    {
      "cell_type": "code",
      "source": [
        "#Nested LOOP\n",
        "\n",
        "x = 0\n",
        "while x < 5:\n",
        " for y in range (0, x):\n",
        "    print(y, end=' ')\n",
        "\n",
        " x += 1\n",
        " print()\n"
      ],
      "metadata": {
        "colab": {
          "base_uri": "https://localhost:8080/"
        },
        "id": "D-AKtLUS8KYt",
        "outputId": "3fc23e4a-f678-4f7c-eebd-93abb2e9b023"
      },
      "execution_count": 19,
      "outputs": [
        {
          "output_type": "stream",
          "name": "stdout",
          "text": [
            "\n",
            "0 \n",
            "0 1 \n",
            "0 1 2 \n",
            "0 1 2 3 \n"
          ]
        }
      ]
    },
    {
      "cell_type": "markdown",
      "source": [
        "FUNCTIONS"
      ],
      "metadata": {
        "id": "Cw67LHc68wI2"
      }
    },
    {
      "cell_type": "code",
      "source": [
        "def remainder (n, m):\n",
        "    while True:\n",
        "        if n - m < 0:\n",
        "             return n\n",
        "\n",
        "        else:\n",
        "            n = n - m\n",
        "\n",
        "remainder(10, 4)"
      ],
      "metadata": {
        "colab": {
          "base_uri": "https://localhost:8080/"
        },
        "id": "3_0nyqfP8xhV",
        "outputId": "fb22a6b0-0c11-4b3a-9af0-ad313162bb6c"
      },
      "execution_count": 26,
      "outputs": [
        {
          "output_type": "execute_result",
          "data": {
            "text/plain": [
              "2"
            ]
          },
          "metadata": {},
          "execution_count": 26
        }
      ]
    },
    {
      "cell_type": "markdown",
      "source": [
        "List"
      ],
      "metadata": {
        "id": "vdYwZlMv_6rs"
      }
    },
    {
      "cell_type": "code",
      "source": [
        "pi = 3.14159\n",
        "varList = [1, 2, 'A', 'B', 'Hello', 'World', pi]\n",
        "\n",
        "print(varList[0])\n",
        "print(varList[4])\n",
        "print(varList[6])\n",
        "\n",
        "len(varList)\n",
        "print(varList [5])\n",
        "varList.append('Python')\n",
        "print(varList)"
      ],
      "metadata": {
        "colab": {
          "base_uri": "https://localhost:8080/"
        },
        "id": "IJqal8k7_9AO",
        "outputId": "df559e51-688c-4adf-e098-d45729534dc3"
      },
      "execution_count": 28,
      "outputs": [
        {
          "output_type": "stream",
          "name": "stdout",
          "text": [
            "1\n",
            "Hello\n",
            "3.14159\n",
            "World\n",
            "[1, 2, 'A', 'B', 'Hello', 'World', 3.14159, 'Python']\n"
          ]
        }
      ]
    },
    {
      "cell_type": "markdown",
      "source": [
        "Dictionaries"
      ],
      "metadata": {
        "id": "w4fS9u1QByVX"
      }
    },
    {
      "cell_type": "code",
      "source": [
        "var = 'Hello World'\n",
        "varDict = {\"first\" : 123, 2 :'abc',\n",
        "          '3' : var, 4 : [ 'lista', 'listb'] }\n",
        "\n",
        "print(varDict['first'])\n",
        "print(varDict[2])\n",
        "print(varDict['3'])\n",
        "print(varDict[4][1])\n",
        "len(varDict)"
      ],
      "metadata": {
        "colab": {
          "base_uri": "https://localhost:8080/"
        },
        "id": "XBfALfQUB5Km",
        "outputId": "07e7a674-1c5b-4600-e1dc-0910c837f57b"
      },
      "execution_count": 30,
      "outputs": [
        {
          "output_type": "stream",
          "name": "stdout",
          "text": [
            "123\n",
            "abc\n",
            "Hello World\n",
            "listb\n"
          ]
        },
        {
          "output_type": "execute_result",
          "data": {
            "text/plain": [
              "4"
            ]
          },
          "metadata": {},
          "execution_count": 30
        }
      ]
    },
    {
      "cell_type": "markdown",
      "source": [
        "LIST GENERATORS AND COMPREHENSION"
      ],
      "metadata": {
        "id": "DQ6HFpZmDIJu"
      }
    },
    {
      "cell_type": "code",
      "source": [
        "def gen_num_up_to(n):\n",
        "  num = 0\n",
        "  while num < n:\n",
        "    yield num\n",
        "    num += 1\n",
        "\n",
        "gen_num_up_to(5)\n",
        "\n",
        "varList = gen_num_up_to(5)\n",
        "print([var for var in varList])\n",
        "\n",
        "def gen_num_up_to(n):\n",
        "  num = 0\n",
        "  while num < n:\n",
        "    yield num\n",
        "    num += 2\n",
        "\n",
        "varList = gen_num_up_to(5)\n",
        "print([var for var in varList])\n",
        "\n",
        "varList = range(0,5,2)\n",
        "print([var for var in varList])"
      ],
      "metadata": {
        "colab": {
          "base_uri": "https://localhost:8080/"
        },
        "id": "0pCd9geWDHVd",
        "outputId": "1e1b9daf-44c6-451c-8f8f-7e30c03e214f"
      },
      "execution_count": 32,
      "outputs": [
        {
          "output_type": "stream",
          "name": "stdout",
          "text": [
            "[0, 1, 2, 3, 4]\n",
            "[0, 2, 4]\n",
            "[0, 2, 4]\n"
          ]
        }
      ]
    },
    {
      "cell_type": "markdown",
      "source": [
        "SLICING"
      ],
      "metadata": {
        "id": "zwsOCKt_DQUW"
      }
    },
    {
      "cell_type": "code",
      "source": [
        "varList = [1, 2, 3, 4, 5, 6, 7, 8, 9, 10]\n",
        "print(varList[:5])\n",
        "\n",
        "print(varList[5:])\n",
        "\n",
        "print(varList[:-2])\n",
        "\n",
        "print(varList[-2:])\n",
        "\n",
        "print(varList[2:-2])\n",
        "\n",
        "print(varList[2:8:2])"
      ],
      "metadata": {
        "colab": {
          "base_uri": "https://localhost:8080/"
        },
        "id": "oWH_MyX8Dlwu",
        "outputId": "3b929da2-e750-4125-d053-94849751fb66"
      },
      "execution_count": 31,
      "outputs": [
        {
          "output_type": "stream",
          "name": "stdout",
          "text": [
            "[1, 2, 3, 4, 5]\n",
            "[6, 7, 8, 9, 10]\n",
            "[1, 2, 3, 4, 5, 6, 7, 8]\n",
            "[9, 10]\n",
            "[3, 4, 5, 6, 7, 8]\n",
            "[3, 5, 7]\n"
          ]
        }
      ]
    }
  ]
}