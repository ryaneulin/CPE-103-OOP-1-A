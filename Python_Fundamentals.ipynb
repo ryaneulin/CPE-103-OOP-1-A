{
  "nbformat": 4,
  "nbformat_minor": 0,
  "metadata": {
    "colab": {
      "provenance": [],
      "authorship_tag": "ABX9TyMFGkVwqICojUxiwCkohO8/",
      "include_colab_link": true
    },
    "kernelspec": {
      "name": "python3",
      "display_name": "Python 3"
    },
    "language_info": {
      "name": "python"
    }
  },
  "cells": [
    {
      "cell_type": "markdown",
      "metadata": {
        "id": "view-in-github",
        "colab_type": "text"
      },
      "source": [
        "<a href=\"https://colab.research.google.com/github/ryaneulin/CPE-103-OOP-1-A/blob/main/Python_Fundamentals.ipynb\" target=\"_parent\"><img src=\"https://colab.research.google.com/assets/colab-badge.svg\" alt=\"Open In Colab\"/></a>"
      ]
    },
    {
      "cell_type": "markdown",
      "source": [],
      "metadata": {
        "id": "TNV474MYHgc-"
      }
    },
    {
      "cell_type": "markdown",
      "source": [
        "Python Identation"
      ],
      "metadata": {
        "id": "Bxsui1jNNIEt"
      }
    },
    {
      "cell_type": "code",
      "source": [
        "\n",
        "if 5 >= 3:\n",
        "  print(\"Five is greater than two!\")\n",
        "\n",
        "else:\n",
        "    print(\"Five is not equal to 2\")\n",
        "\n",
        "print(\" Hello World\")\n"
      ],
      "metadata": {
        "colab": {
          "base_uri": "https://localhost:8080/"
        },
        "id": "4vMo1nGfHkO9",
        "outputId": "c9738330-9d03-446a-b750-5aecf7c0a2ec"
      },
      "execution_count": null,
      "outputs": [
        {
          "output_type": "stream",
          "name": "stdout",
          "text": [
            "Five is greater than two!\n",
            " Hello World\n"
          ]
        }
      ]
    },
    {
      "cell_type": "markdown",
      "source": [
        "Python Variable"
      ],
      "metadata": {
        "id": "8NIFtV-6NCNN"
      }
    },
    {
      "cell_type": "code",
      "source": [
        "x = 1\n",
        "a, b = 0, -1\n",
        "a, b, c = 0, -1, 2\n",
        "\n",
        "b = \"Sally\"\n",
        "\n",
        "print( a )\n",
        "print( b )\n",
        "print( x )"
      ],
      "metadata": {
        "colab": {
          "base_uri": "https://localhost:8080/"
        },
        "id": "-daOG_4tL59d",
        "outputId": "3d6023c6-5ffd-4835-f449-a8303b254492"
      },
      "execution_count": null,
      "outputs": [
        {
          "output_type": "stream",
          "name": "stdout",
          "text": [
            "0\n",
            "Sally\n",
            "1\n"
          ]
        }
      ]
    },
    {
      "cell_type": "markdown",
      "source": [
        "Type Function"
      ],
      "metadata": {
        "id": "Zv3YmHlMNXDc"
      }
    },
    {
      "cell_type": "code",
      "source": [
        "x = 5\n",
        "y = \" John \"\n",
        "print(type(x))\n",
        "print(type(y))\n"
      ],
      "metadata": {
        "colab": {
          "base_uri": "https://localhost:8080/"
        },
        "id": "ZnetkYT2NbQF",
        "outputId": "e9de7940-2547-40d4-eeab-d60ed28511da"
      },
      "execution_count": null,
      "outputs": [
        {
          "output_type": "stream",
          "name": "stdout",
          "text": [
            "<class 'int'>\n",
            "<class 'str'>\n"
          ]
        }
      ]
    },
    {
      "cell_type": "markdown",
      "source": [
        "\"Double quotes \" or Single quotes"
      ],
      "metadata": {
        "id": "ivfGulzuN4Ou"
      }
    },
    {
      "cell_type": "code",
      "source": [
        "y = \" John \"\n",
        "y = ' Ryan '\n",
        "\n",
        "print(y)"
      ],
      "metadata": {
        "colab": {
          "base_uri": "https://localhost:8080/"
        },
        "id": "joQfFycsOKnd",
        "outputId": "c73792d1-3be7-45b0-db80-0cee611b95f4"
      },
      "execution_count": null,
      "outputs": [
        {
          "output_type": "stream",
          "name": "stdout",
          "text": [
            " Ryan \n"
          ]
        }
      ]
    },
    {
      "cell_type": "markdown",
      "source": [
        "Case Sensitive"
      ],
      "metadata": {
        "id": "4FEEfsfEObmt"
      }
    },
    {
      "cell_type": "code",
      "source": [
        "a = 4\n",
        "#A = \" Sally \"\n",
        "print(a)\n"
      ],
      "metadata": {
        "colab": {
          "base_uri": "https://localhost:8080/"
        },
        "id": "XjHLGFZMObWU",
        "outputId": "e0a080bf-e33a-4f60-9acc-23105b7fa006"
      },
      "execution_count": null,
      "outputs": [
        {
          "output_type": "stream",
          "name": "stdout",
          "text": [
            "4\n"
          ]
        }
      ]
    },
    {
      "cell_type": "markdown",
      "source": [
        "Multiple Variables\n"
      ],
      "metadata": {
        "id": "TT14SmdwOoiV"
      }
    },
    {
      "cell_type": "code",
      "source": [
        "x, y , z = \"one\", \"two\", \"three\"\n",
        "\n",
        "print (x)\n",
        "print (y)\n",
        "print (z)"
      ],
      "metadata": {
        "colab": {
          "base_uri": "https://localhost:8080/"
        },
        "id": "85caVbTMOoUV",
        "outputId": "b8b6e5f9-06b1-4edd-c174-79aa63b0c70e"
      },
      "execution_count": null,
      "outputs": [
        {
          "output_type": "stream",
          "name": "stdout",
          "text": [
            "one\n",
            "two\n",
            "three\n"
          ]
        }
      ]
    },
    {
      "cell_type": "markdown",
      "source": [
        "One Value to Multiple Variables"
      ],
      "metadata": {
        "id": "ZSQCpEl2PITu"
      }
    },
    {
      "cell_type": "code",
      "source": [
        "x = y = z = \"four\"\n",
        "print (x)\n",
        "print (y)\n",
        "print (z)\n",
        "\n"
      ],
      "metadata": {
        "colab": {
          "base_uri": "https://localhost:8080/"
        },
        "id": "9dUCwSDjPL_m",
        "outputId": "bc75b275-a0c5-4049-d836-ca6f24671893"
      },
      "execution_count": null,
      "outputs": [
        {
          "output_type": "stream",
          "name": "stdout",
          "text": [
            "four\n",
            "four\n",
            "four\n"
          ]
        }
      ]
    },
    {
      "cell_type": "markdown",
      "source": [
        "Output Variables"
      ],
      "metadata": {
        "id": "KsFN05szPY7l"
      }
    },
    {
      "cell_type": "code",
      "source": [
        "x = \" enjoying \"\n",
        "\n",
        "print( \" Phython programming \" + x)"
      ],
      "metadata": {
        "colab": {
          "base_uri": "https://localhost:8080/"
        },
        "id": "x6jQ0QX0PfV9",
        "outputId": "71f65445-80c5-4ca2-db06-33ac0e432b09"
      },
      "execution_count": null,
      "outputs": [
        {
          "output_type": "stream",
          "name": "stdout",
          "text": [
            " Phython programming  enjoying \n"
          ]
        }
      ]
    },
    {
      "cell_type": "markdown",
      "source": [],
      "metadata": {
        "id": "b2VqYG5hP8Zl"
      }
    },
    {
      "cell_type": "code",
      "source": [
        "x = 5\n",
        "y = 3\n",
        "\n",
        "print( x + y )\n",
        "\n",
        "print( x - y )\n",
        "\n",
        "print( x * y )\n",
        "\n",
        "print( x / y )\n",
        "\n",
        "print( x % y )\n",
        "\n",
        "print( x ** y )\n",
        "\n",
        "print( x //y )\n"
      ],
      "metadata": {
        "colab": {
          "base_uri": "https://localhost:8080/"
        },
        "id": "LMhUCy6PP7Yd",
        "outputId": "97a7a418-fe0e-4bb5-d192-12d3da7aaf90"
      },
      "execution_count": null,
      "outputs": [
        {
          "output_type": "stream",
          "name": "stdout",
          "text": [
            "8\n",
            "2\n",
            "15\n",
            "1.6666666666666667\n",
            "2\n",
            "125\n",
            "1\n"
          ]
        }
      ]
    },
    {
      "cell_type": "markdown",
      "source": [
        "Assignment Operator"
      ],
      "metadata": {
        "id": "1oBFG7V0SBQe"
      }
    },
    {
      "cell_type": "code",
      "source": [
        "x = 10\n",
        "\n",
        "x = 5\n",
        "x += 3\n",
        "x -= 3\n",
        "x *= 3\n",
        "x /= 3\n",
        "x %= 3\n",
        "x //= 3\n",
        "x **= 3\n",
        "x != 3\n",
        "\n",
        "\n",
        "\n",
        "print ( x )\n",
        "print ( x )\n",
        "print ( x )\n",
        "print ( x )\n",
        "print ( x )\n",
        "print ( x )\n",
        "print ( x )\n",
        "print ( x )\n",
        "print ( x )\n",
        "print ( x )\n",
        "print ( x )\n",
        "print ( x )\n"
      ],
      "metadata": {
        "colab": {
          "base_uri": "https://localhost:8080/"
        },
        "id": "rPUk9Nw8SEMt",
        "outputId": "09673305-4eee-475d-ddd6-1ef9cca1c8f0"
      },
      "execution_count": null,
      "outputs": [
        {
          "output_type": "stream",
          "name": "stdout",
          "text": [
            "0.0\n",
            "0.0\n",
            "0.0\n",
            "0.0\n",
            "0.0\n",
            "0.0\n",
            "0.0\n",
            "0.0\n",
            "0.0\n",
            "0.0\n",
            "0.0\n",
            "0.0\n"
          ]
        }
      ]
    },
    {
      "cell_type": "markdown",
      "source": [
        "Comparison Operators"
      ],
      "metadata": {
        "id": "0s_xVgNDTZ9n"
      }
    },
    {
      "cell_type": "code",
      "source": [
        "x = 10\n",
        "y = 55\n",
        "\n",
        "x == y\n",
        "x != y\n",
        "x > y\n",
        "x < y\n",
        "x >= y\n",
        "x <= y\n",
        "\n"
      ],
      "metadata": {
        "colab": {
          "base_uri": "https://localhost:8080/"
        },
        "id": "MzZ1J0pNTe4m",
        "outputId": "8a38ad17-9d20-4224-d8fa-a394d8c62557"
      },
      "execution_count": null,
      "outputs": [
        {
          "output_type": "execute_result",
          "data": {
            "text/plain": [
              "True"
            ]
          },
          "metadata": {},
          "execution_count": 51
        }
      ]
    },
    {
      "cell_type": "markdown",
      "source": [
        "LOgical Operators"
      ],
      "metadata": {
        "id": "1zo4d0gJUTRO"
      }
    },
    {
      "cell_type": "code",
      "source": [
        "x < 5 and x < 10\n",
        "x < 5 or x < 4\n",
        "not(x < 5 and x < 10)\n",
        "\n"
      ],
      "metadata": {
        "colab": {
          "base_uri": "https://localhost:8080/"
        },
        "id": "sQpBCynQUWae",
        "outputId": "16a237e3-d8dd-4fdb-bd18-8f722becf879"
      },
      "execution_count": null,
      "outputs": [
        {
          "output_type": "execute_result",
          "data": {
            "text/plain": [
              "True"
            ]
          },
          "metadata": {},
          "execution_count": 52
        }
      ]
    },
    {
      "cell_type": "markdown",
      "source": [
        "Identity Operators"
      ],
      "metadata": {
        "id": "a-0zwm4RUcC-"
      }
    },
    {
      "cell_type": "code",
      "source": [
        "x = 3\n",
        "y =4\n",
        "\n",
        "x is y\n",
        "x is not y"
      ],
      "metadata": {
        "colab": {
          "base_uri": "https://localhost:8080/"
        },
        "id": "NzcvCZThUb02",
        "outputId": "6e564c18-a51c-45e8-b259-993d8f4c1bd6"
      },
      "execution_count": null,
      "outputs": [
        {
          "output_type": "execute_result",
          "data": {
            "text/plain": [
              "True"
            ]
          },
          "metadata": {},
          "execution_count": 54
        }
      ]
    },
    {
      "cell_type": "markdown",
      "source": [
        "Bitwise Operators"
      ],
      "metadata": {
        "id": "WeQJnPbIUs4G"
      }
    },
    {
      "cell_type": "code",
      "source": [
        "#decimal to binary\n",
        "x = 10\n",
        "\n",
        "x << 1\n",
        "\n",
        "print(x)\n",
        "\n"
      ],
      "metadata": {
        "colab": {
          "base_uri": "https://localhost:8080/"
        },
        "id": "Uj9w3uY7U1O4",
        "outputId": "1b09e920-177b-4705-d47c-8c482e9ab4d9"
      },
      "execution_count": null,
      "outputs": [
        {
          "output_type": "stream",
          "name": "stdout",
          "text": [
            "10\n"
          ]
        }
      ]
    },
    {
      "cell_type": "markdown",
      "source": [
        "**APPLICATION** **1**"
      ],
      "metadata": {
        "id": "IB4zFO0QYcuf"
      }
    },
    {
      "cell_type": "code",
      "source": [
        "#1. Triangle\n",
        "import math\n",
        "\n",
        "x = input()\n",
        "y = input()\n",
        "z = float(x)* float(y)/2\n",
        "\n",
        "print( \"The area of Triangle is: \", z)"
      ],
      "metadata": {
        "colab": {
          "base_uri": "https://localhost:8080/"
        },
        "id": "qAekjToNZkMf",
        "outputId": "4a775345-4613-4291-e0ad-c21495754b23"
      },
      "execution_count": 1,
      "outputs": [
        {
          "output_type": "stream",
          "name": "stdout",
          "text": [
            "10\n",
            "10\n",
            "The area of Triangle is:  50.0\n"
          ]
        }
      ]
    },
    {
      "cell_type": "code",
      "source": [
        "#2. Circle\n",
        "\n",
        "import math\n",
        "\n",
        "r = input()\n",
        "z = float(r)*float(r)*math.pi\n",
        "\n",
        "print( \"The area of circle is: \", z)"
      ],
      "metadata": {
        "colab": {
          "base_uri": "https://localhost:8080/"
        },
        "id": "c5AJSUUPZ3fO",
        "outputId": "8eafabf6-a55a-4e30-d74a-085275642c19"
      },
      "execution_count": null,
      "outputs": [
        {
          "output_type": "stream",
          "name": "stdout",
          "text": [
            "345\n",
            "The area of circle is:  373928.0655935251\n"
          ]
        }
      ]
    },
    {
      "cell_type": "code",
      "source": [
        "#3. Cylinder\n",
        "\n",
        "import math\n",
        "\n",
        "r = input()\n",
        "h = input()\n",
        "z = float(r)*float(r)*math.pi*float(h)\n",
        "\n",
        "print( \"The area of cylinder is: \",z )"
      ],
      "metadata": {
        "colab": {
          "base_uri": "https://localhost:8080/"
        },
        "id": "9MBlF0TPa25f",
        "outputId": "1d15a05f-1dc9-4b2b-edbd-19035c72c23e"
      },
      "execution_count": null,
      "outputs": [
        {
          "output_type": "stream",
          "name": "stdout",
          "text": [
            "23232\n",
            "4444\n",
            "The area of cylinder is:  7535240550056.598\n"
          ]
        }
      ]
    }
  ]
}