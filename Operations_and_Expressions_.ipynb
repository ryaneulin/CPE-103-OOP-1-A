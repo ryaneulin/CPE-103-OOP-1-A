{
  "nbformat": 4,
  "nbformat_minor": 0,
  "metadata": {
    "colab": {
      "provenance": [],
      "authorship_tag": "ABX9TyPwx9Bn+VUt0bOktMUn4vZk",
      "include_colab_link": true
    },
    "kernelspec": {
      "name": "python3",
      "display_name": "Python 3"
    },
    "language_info": {
      "name": "python"
    }
  },
  "cells": [
    {
      "cell_type": "markdown",
      "metadata": {
        "id": "view-in-github",
        "colab_type": "text"
      },
      "source": [
        "<a href=\"https://colab.research.google.com/github/ryaneulin/CPE-103-OOP-1-A/blob/main/Operations_and_Expressions_.ipynb\" target=\"_parent\"><img src=\"https://colab.research.google.com/assets/colab-badge.svg\" alt=\"Open In Colab\"/></a>"
      ]
    },
    {
      "cell_type": "markdown",
      "source": [
        "**BOOLEAN OPERATOR**"
      ],
      "metadata": {
        "id": "tXxPIJmtyS7c"
      }
    },
    {
      "cell_type": "code",
      "source": [
        "print( 10 > 9 )\n",
        "print( 10 == 9 )\n",
        "print( 10 < 9 )"
      ],
      "metadata": {
        "colab": {
          "base_uri": "https://localhost:8080/"
        },
        "id": "PvLUBcl1yYAV",
        "outputId": "b7bd7c62-4899-44e5-b86f-fb380258ff78"
      },
      "execution_count": 1,
      "outputs": [
        {
          "output_type": "stream",
          "name": "stdout",
          "text": [
            "True\n",
            "False\n",
            "False\n"
          ]
        }
      ]
    },
    {
      "cell_type": "markdown",
      "source": [
        "**BOOL () FUNCTION **"
      ],
      "metadata": {
        "id": "AF2DsHnLzGuk"
      }
    },
    {
      "cell_type": "code",
      "source": [
        "print(bool(1))\n",
        "print(bool(0))\n",
        "print(bool(\"hello\"))\n",
        "print(bool(None) )\n",
        "print(bool(-2))\n"
      ],
      "metadata": {
        "colab": {
          "base_uri": "https://localhost:8080/"
        },
        "id": "mh-g5ZA6zI4v",
        "outputId": "57183798-6707-4d42-e50d-43be9d0eb485"
      },
      "execution_count": 2,
      "outputs": [
        {
          "output_type": "stream",
          "name": "stdout",
          "text": [
            "True\n",
            "False\n",
            "True\n",
            "False\n",
            "True\n"
          ]
        }
      ]
    },
    {
      "cell_type": "markdown",
      "source": [
        "**Funtion can return a Boolean**"
      ],
      "metadata": {
        "id": "9LihDHs0znb0"
      }
    },
    {
      "cell_type": "code",
      "source": [
        "def myFunction():\n",
        "   return True\n",
        "\n",
        "print(myFunction())"
      ],
      "metadata": {
        "colab": {
          "base_uri": "https://localhost:8080/"
        },
        "id": "sWdeyfaU0CLr",
        "outputId": "c4106a36-ef99-4c6c-9bb3-c1c8c7ea274e"
      },
      "execution_count": 15,
      "outputs": [
        {
          "output_type": "stream",
          "name": "stdout",
          "text": [
            "True\n"
          ]
        }
      ]
    },
    {
      "cell_type": "code",
      "source": [
        "def myFunction():\n",
        "   return False\n",
        "\n",
        "if myFunction():\n",
        "  print(\"YES!\")\n",
        "else:\n",
        "  print(\"NO!\")\n"
      ],
      "metadata": {
        "colab": {
          "base_uri": "https://localhost:8080/"
        },
        "id": "NifgDa_U04sk",
        "outputId": "f9e1b064-3697-41b3-f773-8ad66f243101"
      },
      "execution_count": 18,
      "outputs": [
        {
          "output_type": "stream",
          "name": "stdout",
          "text": [
            "NO!\n"
          ]
        }
      ]
    },
    {
      "cell_type": "code",
      "source": [
        "print (10>9)\n",
        "\n",
        "a = 7\n",
        "b = 6\n",
        "\n",
        "print(a == b)\n",
        "print( a != b )"
      ],
      "metadata": {
        "colab": {
          "base_uri": "https://localhost:8080/"
        },
        "id": "ea6mtOJt199t",
        "outputId": "b0d48b3b-a48a-46e0-fd88-e45241d59380"
      },
      "execution_count": 19,
      "outputs": [
        {
          "output_type": "stream",
          "name": "stdout",
          "text": [
            "True\n",
            "False\n",
            "True\n"
          ]
        }
      ]
    },
    {
      "cell_type": "code",
      "source": [
        "print( 10 + 5 )\n",
        "print( 10 - 5 )\n",
        "print( 10 * 5 )\n",
        "print( 10 / 5)\n",
        "print( 10 // 5 )\n",
        "print( 10 % 5 )\n",
        "print( 10 **5 )\n",
        "print( 10 * 5 )"
      ],
      "metadata": {
        "colab": {
          "base_uri": "https://localhost:8080/"
        },
        "id": "Wt9AEwRD2Qc8",
        "outputId": "991fb9b2-4714-4468-e88f-e29060ad654d"
      },
      "execution_count": 21,
      "outputs": [
        {
          "output_type": "stream",
          "name": "stdout",
          "text": [
            "15\n",
            "5\n",
            "50\n",
            "2.0\n",
            "2\n",
            "0\n",
            "100000\n",
            "50\n"
          ]
        }
      ]
    },
    {
      "cell_type": "markdown",
      "source": [
        "**Python Bitwise Operator**"
      ],
      "metadata": {
        "id": "WDXbKIOJ3_6c"
      }
    },
    {
      "cell_type": "code",
      "source": [
        "a = 60\n",
        "b = 13\n",
        "\n",
        "print( a & b )\n",
        "print( a | b )\n",
        "print( a ^ b )\n",
        "print( ~ a )\n",
        "print( a << b)"
      ],
      "metadata": {
        "colab": {
          "base_uri": "https://localhost:8080/"
        },
        "id": "iUhLZjif3bAs",
        "outputId": "801b30da-8098-4459-f594-1791a48a7ee3"
      },
      "execution_count": 26,
      "outputs": [
        {
          "output_type": "stream",
          "name": "stdout",
          "text": [
            "12\n",
            "61\n",
            "49\n",
            "-61\n",
            "491520\n"
          ]
        }
      ]
    },
    {
      "cell_type": "markdown",
      "source": [
        "**PYHTON ASSIGNMENT OPERATORS**"
      ],
      "metadata": {
        "id": "FzdHdSAS-nEd"
      }
    },
    {
      "cell_type": "code",
      "source": [
        "x = 10\n",
        "\n",
        "\n",
        "x += 3\n",
        "print(x)\n",
        "\n",
        "x -= 3\n",
        "print(x)\n",
        "\n",
        "x *= 3\n",
        "print(x)\n",
        "\n",
        "x /= 3\n",
        "print(x)\n",
        "\n",
        "x %= 3\n",
        "print(x)"
      ],
      "metadata": {
        "colab": {
          "base_uri": "https://localhost:8080/"
        },
        "id": "Q054ZBVT-sC8",
        "outputId": "19df2c65-b3ba-42b7-93cf-dc929592cfe0"
      },
      "execution_count": 37,
      "outputs": [
        {
          "output_type": "stream",
          "name": "stdout",
          "text": [
            "13\n",
            "10\n",
            "30\n",
            "10.0\n",
            "1.0\n"
          ]
        }
      ]
    },
    {
      "cell_type": "markdown",
      "source": [
        "  **LOGIACAL OPERATORS**  "
      ],
      "metadata": {
        "id": "GSYRmfg-Cs8s"
      }
    },
    {
      "cell_type": "code",
      "source": [
        "print(10>9 and 9>10 )\n",
        "print(not(10>9 and 9>10 ))"
      ],
      "metadata": {
        "colab": {
          "base_uri": "https://localhost:8080/"
        },
        "id": "obbQJ3m3CsXW",
        "outputId": "397f567d-87a2-4748-84de-33ae5727a594"
      },
      "execution_count": 40,
      "outputs": [
        {
          "output_type": "stream",
          "name": "stdout",
          "text": [
            "False\n",
            "True\n"
          ]
        }
      ]
    },
    {
      "cell_type": "markdown",
      "source": [
        "**IDENTITY OPERATOR**"
      ],
      "metadata": {
        "id": "qqaBXbuZIEOH"
      }
    },
    {
      "cell_type": "code",
      "source": [
        "x = 1\n",
        "y = 2\n",
        "\n",
        "print( x is y )\n",
        "print(x is not y)\n",
        "\n"
      ],
      "metadata": {
        "colab": {
          "base_uri": "https://localhost:8080/"
        },
        "id": "MVz9ab27IWbV",
        "outputId": "7ba17930-4b21-4bf4-b5fa-20adefe049d0"
      },
      "execution_count": 43,
      "outputs": [
        {
          "output_type": "stream",
          "name": "stdout",
          "text": [
            "False\n",
            "True\n"
          ]
        }
      ]
    },
    {
      "cell_type": "markdown",
      "source": [
        "**CONDITIONAL STATEMENT IN PYTHON**"
      ],
      "metadata": {
        "id": "aIjWWER9Il7N"
      }
    },
    {
      "cell_type": "code",
      "source": [
        "a = 12\n",
        "b = 100\n",
        "\n",
        "if b > a:\n",
        "  print(\"b is greater than a\")"
      ],
      "metadata": {
        "colab": {
          "base_uri": "https://localhost:8080/"
        },
        "id": "mp2NxL8oIsz9",
        "outputId": "fe177ae9-1e8e-4e33-8f60-73cecc80af8e"
      },
      "execution_count": 44,
      "outputs": [
        {
          "output_type": "stream",
          "name": "stdout",
          "text": [
            "b is greater than a\n"
          ]
        }
      ]
    },
    {
      "cell_type": "code",
      "source": [
        "a = float(input(\"Enter a number: \"))\n",
        "b = float(input(\"Enter a number: \"))\n",
        "\n",
        "for i in range (6):\n",
        "\n",
        "  if b > a:\n",
        "     print(\"b is greater than a\")\n",
        "\n",
        "  elif a == b:\n",
        "     print(\"a and b are equal\")\n",
        "  else:\n",
        "    print(\"a is greater b\")\n"
      ],
      "metadata": {
        "colab": {
          "base_uri": "https://localhost:8080/"
        },
        "id": "3ougECtlIz--",
        "outputId": "4ca85f83-5733-4307-f322-de2cb8e668f7"
      },
      "execution_count": 53,
      "outputs": [
        {
          "output_type": "stream",
          "name": "stdout",
          "text": [
            "Enter a number: 10\n",
            "Enter a number: 13\n",
            "b is greater than a\n",
            "b is greater than a\n",
            "b is greater than a\n",
            "b is greater than a\n",
            "b is greater than a\n",
            "b is greater than a\n"
          ]
        }
      ]
    },
    {
      "cell_type": "markdown",
      "source": [
        "**ELIF STATEMENT**"
      ],
      "metadata": {
        "id": "q__cbd4iPkuf"
      }
    },
    {
      "cell_type": "code",
      "source": [
        "a = float(input(\"Enter a number: \"))\n",
        "b = float(input(\"Enter a number: \"))\n",
        "\n",
        "for i in range (6):\n",
        "\n",
        "  if b > a:\n",
        "     print(\"b is greater than a\")\n",
        "\n",
        "  elif a == b:\n",
        "     print(\"a and b are equal\")"
      ],
      "metadata": {
        "colab": {
          "base_uri": "https://localhost:8080/"
        },
        "id": "5n0A4PL4PlxO",
        "outputId": "6ce280ea-f02d-493e-a1d2-e07268702001"
      },
      "execution_count": 54,
      "outputs": [
        {
          "output_type": "stream",
          "name": "stdout",
          "text": [
            "Enter a number: 10\n",
            "Enter a number: 13\n",
            "b is greater than a\n",
            "b is greater than a\n",
            "b is greater than a\n",
            "b is greater than a\n",
            "b is greater than a\n",
            "b is greater than a\n"
          ]
        }
      ]
    },
    {
      "cell_type": "markdown",
      "source": [
        "**ELSE STATEMENT**"
      ],
      "metadata": {
        "id": "rId5ZROYPmL-"
      }
    },
    {
      "cell_type": "code",
      "source": [
        "a = float(input(\"Enter a number: \"))\n",
        "b = float(input(\"Enter a number: \"))\n",
        "\n",
        "for i in range (6):\n",
        "\n",
        "  if b > a:\n",
        "     print(\"b is greater than a\")\n",
        "\n",
        "  elif a == b:\n",
        "     print(\"a and b are equal\")\n",
        "  else:\n",
        "    print(\"a is greater b\")"
      ],
      "metadata": {
        "colab": {
          "base_uri": "https://localhost:8080/"
        },
        "id": "92PfCniLPmi-",
        "outputId": "aabf97da-bfdc-4a68-a5e5-57e0346acc98"
      },
      "execution_count": 55,
      "outputs": [
        {
          "output_type": "stream",
          "name": "stdout",
          "text": [
            "Enter a number: 14\n",
            "Enter a number: 16\n",
            "b is greater than a\n",
            "b is greater than a\n",
            "b is greater than a\n",
            "b is greater than a\n",
            "b is greater than a\n",
            "b is greater than a\n"
          ]
        }
      ]
    },
    {
      "cell_type": "markdown",
      "source": [
        "**SHORT HAND IF ELSE STATEMENT**"
      ],
      "metadata": {
        "id": "RNFUnD3KPm19"
      }
    },
    {
      "cell_type": "code",
      "source": [
        "a=2\n",
        "b=330\n",
        "\n",
        "print(\"A\") if a > b else print(\"B\")"
      ],
      "metadata": {
        "colab": {
          "base_uri": "https://localhost:8080/"
        },
        "id": "FbM-XguhPnGt",
        "outputId": "b1c18a0d-804f-4c32-b13e-2448684570e2"
      },
      "execution_count": 58,
      "outputs": [
        {
          "output_type": "stream",
          "name": "stdout",
          "text": [
            "B\n"
          ]
        }
      ]
    },
    {
      "cell_type": "markdown",
      "source": [
        "**AND BOTH CONDITIONS ARE TRUE **"
      ],
      "metadata": {
        "id": "XbCqWsQ5QSwO"
      }
    },
    {
      "cell_type": "code",
      "source": [
        "a=200\n",
        "b=33\n",
        "c=500\n",
        "\n",
        "if a>b or a>c:\n",
        "  print(\"Both Conditions are True\")"
      ],
      "metadata": {
        "colab": {
          "base_uri": "https://localhost:8080/"
        },
        "id": "DFZkl4-MQeSu",
        "outputId": "dd7a3861-b265-4fa8-8f30-d2bbeb7eea66"
      },
      "execution_count": 57,
      "outputs": [
        {
          "output_type": "stream",
          "name": "stdout",
          "text": [
            "Both Conditions are True\n"
          ]
        }
      ]
    },
    {
      "cell_type": "markdown",
      "source": [
        "**OR AT LEAST ONE OF THE CONDITIONS IS TRUE**"
      ],
      "metadata": {
        "id": "wqyuoTaUQer-"
      }
    },
    {
      "cell_type": "code",
      "source": [
        "a=200\n",
        "b=33\n",
        "c=500\n",
        "\n",
        "if a>b or a>c:\n",
        "  print(\"At least one of the conditions is True\")"
      ],
      "metadata": {
        "colab": {
          "base_uri": "https://localhost:8080/"
        },
        "id": "VI9IvUW7QmDW",
        "outputId": "76cd85b2-9ed8-4c15-f249-80de3100c678"
      },
      "execution_count": 56,
      "outputs": [
        {
          "output_type": "stream",
          "name": "stdout",
          "text": [
            "At least one of the conditions is True\n"
          ]
        }
      ]
    },
    {
      "cell_type": "markdown",
      "source": [
        "**NESTED** **IF** **ELSE**"
      ],
      "metadata": {
        "id": "-OYazEImQmaX"
      }
    },
    {
      "cell_type": "code",
      "source": [
        "x = float(input(\"Enter a number: \"))\n",
        "\n",
        "\n",
        "if x > 10:\n",
        "  print(\"Above 10\")\n",
        "  if x > 20:\n",
        "    print( \"Above 20\")\n",
        "    if x > 30:\n",
        "      print(\"Above 30\")\n",
        "      if x > 40:\n",
        "        print(\"Above 40\")\n",
        "        if x > 50:\n",
        "          print(\"Above 50\")\n",
        "        else:\n",
        "          print(\"Not Above 50\")\n",
        "      else:\n",
        "       print(\"Not Above 40\")\n",
        "    else:\n",
        "      print(\"Not Above 30\")\n",
        "  else:\n",
        "    print(\"Not Above 20\")\n",
        "else:\n",
        "  print(\"Not Above 10\")"
      ],
      "metadata": {
        "colab": {
          "base_uri": "https://localhost:8080/"
        },
        "id": "VcdTwXv3VW_e",
        "outputId": "6fbc2fe4-9f9b-48ee-9768-e17a97c76517"
      },
      "execution_count": 84,
      "outputs": [
        {
          "output_type": "stream",
          "name": "stdout",
          "text": [
            "Enter a number: 46\n",
            "Above 10\n",
            "Above 20\n",
            "Above 30\n",
            "Above 40\n",
            "Not Above 50\n"
          ]
        }
      ]
    },
    {
      "cell_type": "markdown",
      "source": [
        "ACTIVITY 1"
      ],
      "metadata": {
        "id": "k5xB2NKtXeg-"
      }
    },
    {
      "cell_type": "code",
      "source": [
        "a = float(input( \"Enter a Number: \"))\n",
        "\n",
        "if x >= 18:\n",
        "  print(\"Qualified To Vote\")\n",
        "\n",
        "else:\n",
        "  print(\"Not Qualified To Vote\")\n",
        ""
      ],
      "metadata": {
        "colab": {
          "base_uri": "https://localhost:8080/"
        },
        "id": "KY1stMp6XeHH",
        "outputId": "a1d07e00-a151-4922-b095-f6b0e6637679"
      },
      "execution_count": 88,
      "outputs": [
        {
          "output_type": "stream",
          "name": "stdout",
          "text": [
            "Enter a Number: 17\n",
            "Qualified To Vote\n"
          ]
        }
      ]
    },
    {
      "cell_type": "markdown",
      "source": [
        "ACTIVITY 2"
      ],
      "metadata": {
        "id": "AJsO3KhoYPVl"
      }
    },
    {
      "cell_type": "code",
      "source": [
        "a = float(input(\"Enter a Number: \"))\n",
        "\n",
        "if a > 0:\n",
        "  print(\"It is a  Positive Number\")\n",
        "\n",
        "elif a < 0:\n",
        "  print(\"It is a Negative Number\")\n",
        "\n",
        "else:\n",
        "  print(\"It is Zero\")\n",
        "\n",
        "\n",
        "\n"
      ],
      "metadata": {
        "colab": {
          "base_uri": "https://localhost:8080/"
        },
        "id": "cobMg6BaYPCO",
        "outputId": "3849da1f-e5e5-45b2-ee11-a0f5bd35f5e0"
      },
      "execution_count": 97,
      "outputs": [
        {
          "output_type": "stream",
          "name": "stdout",
          "text": [
            "Enter a Number: -14\n",
            "It is a Negative Number\n"
          ]
        }
      ]
    },
    {
      "cell_type": "markdown",
      "source": [
        "ACTIVITY 3"
      ],
      "metadata": {
        "id": "Qq5UGFBaZvnQ"
      }
    },
    {
      "cell_type": "code",
      "source": [
        "a = float(input(\"Enter a Number:\"))\n",
        "\n",
        "if a >= 75:\n",
        "  print(\"Passed\")\n",
        "\n",
        "elif a==75:\n",
        " print(\"Remedial\")\n",
        "\n",
        "else:\n",
        "  print(\"Failed\")\n"
      ],
      "metadata": {
        "colab": {
          "base_uri": "https://localhost:8080/"
        },
        "id": "iwqt3HweZylm",
        "outputId": "e7d74f27-0914-4147-d682-0db7fbabbdd7"
      },
      "execution_count": 99,
      "outputs": [
        {
          "output_type": "stream",
          "name": "stdout",
          "text": [
            "Enter a Number:76\n",
            "Passed\n"
          ]
        }
      ]
    }
  ]
}