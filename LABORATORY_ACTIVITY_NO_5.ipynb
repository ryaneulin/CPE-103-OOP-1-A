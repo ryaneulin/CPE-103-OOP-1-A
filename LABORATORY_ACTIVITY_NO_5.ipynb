{
  "nbformat": 4,
  "nbformat_minor": 0,
  "metadata": {
    "colab": {
      "provenance": [],
      "authorship_tag": "ABX9TyOSxAaRrw6urPVkBI17Zp2t",
      "include_colab_link": true
    },
    "kernelspec": {
      "name": "python3",
      "display_name": "Python 3"
    },
    "language_info": {
      "name": "python"
    }
  },
  "cells": [
    {
      "cell_type": "markdown",
      "metadata": {
        "id": "view-in-github",
        "colab_type": "text"
      },
      "source": [
        "<a href=\"https://colab.research.google.com/github/ryaneulin/CPE-103-OOP-1-A/blob/main/LABORATORY_ACTIVITY_NO_5.ipynb\" target=\"_parent\"><img src=\"https://colab.research.google.com/assets/colab-badge.svg\" alt=\"Open In Colab\"/></a>"
      ]
    },
    {
      "cell_type": "markdown",
      "source": [
        "Fuctions"
      ],
      "metadata": {
        "id": "hptsH2d5z--l"
      }
    },
    {
      "cell_type": "code",
      "source": [
        "#Proporsitional Logic evluator for discrete math for 2-3 variables\n",
        "print(\"Propositional logic evaluator for discrete ath\")\n",
        "\n",
        "variables = int(input(\"How many variables are there? \"))\n",
        "total_combinations = 2 ** variables\n",
        "\n",
        "combinations_list = [] #store all the possible combinations\n",
        "\n",
        "#generate the combinations\n",
        "for i in range (total_combinations):\n",
        "  bin_equivalent = bin(i)[2:]\n",
        "  while len(bin_equivalent) < variables:\n",
        "    bin_equivalent = \"0\" + bin_equivalent\n",
        "  combinations_list.append(tuple(int(val) for val in bin_equivalent))\n",
        "  #this will generate a list with values [(0,0), (o,1), (1,0), (1,1)]\n",
        "  # foe two variables\n",
        "\n",
        "#main program\n",
        "expression = input(\"Enter the propositional logic expression: \")\n",
        "# note: Only the letters A, B and C are allowed to be used\n",
        "# example: not(A and B) or (A and C)\n",
        "\n",
        "if variables == 2:\n",
        "  print(\"A b f\")\n",
        "  for A, B in combinations_list:\n",
        "      evaluates_expression = eval(expression)\n",
        "      print(A, B, evaluates_expression)\n",
        "\n",
        "elif variables == 3:\n",
        "  print(\"A B C f\")\n",
        "  for A, B, C in combinations_list:\n",
        "      evaluates_expression = eval(expression)\n",
        "      print(A, B, C, evaluates_expression)\n",
        "\n",
        "\n",
        "\n"
      ],
      "metadata": {
        "colab": {
          "base_uri": "https://localhost:8080/"
        },
        "id": "AQ6v7ep100xG",
        "outputId": "37d967d9-702a-41ed-d0ff-e1beb245901c"
      },
      "execution_count": 3,
      "outputs": [
        {
          "output_type": "stream",
          "name": "stdout",
          "text": [
            "Propositional logic evaluator for discrete ath\n",
            "How many variables are there? 3\n",
            "Enter the propositional logic expression: 2\n",
            "A B C f\n",
            "0 0 0 2\n",
            "0 0 1 2\n",
            "0 1 0 2\n",
            "0 1 1 2\n",
            "1 0 0 2\n",
            "1 0 1 2\n",
            "1 1 0 2\n",
            "1 1 1 2\n"
          ]
        }
      ]
    },
    {
      "cell_type": "code",
      "source": [
        "name = \"Royce Chua\"\n",
        "file = open(\"newfile1.txt\", \"w\")\n",
        "file.write(f\"Hello, {name}!\\n\")\n",
        "file.write(\"Isn't this amazing!\\n\")\n",
        "file.write(\"that we cam create ad write on text files\\n\")\n",
        "file.write(\"using Python. \")\n",
        "file.close()"
      ],
      "metadata": {
        "id": "99f7Thgb3RCQ"
      },
      "execution_count": 4,
      "outputs": []
    },
    {
      "cell_type": "code",
      "source": [
        "file = open(\"newfile1.txt\", \"r\")\n",
        "data = file.read()\n",
        "print(data)\n",
        "file.close()"
      ],
      "metadata": {
        "colab": {
          "base_uri": "https://localhost:8080/"
        },
        "id": "uNk3G1rw3-c1",
        "outputId": "b3cea71f-dbca-4b3b-877c-0587f56cee49"
      },
      "execution_count": 6,
      "outputs": [
        {
          "output_type": "stream",
          "name": "stdout",
          "text": [
            "Hello, Royce Chua!\n",
            "Isn't this amazing!\n",
            "that we cam create ad write on text files\n",
            "using Python. \n"
          ]
        }
      ]
    },
    {
      "cell_type": "code",
      "source": [
        "file = open(\"newfile2.txt\", \"r\")\n",
        "data = file.read(12)\n",
        "print(data)\n",
        "file.close()"
      ],
      "metadata": {
        "colab": {
          "base_uri": "https://localhost:8080/"
        },
        "id": "B1F6Z8Fe4VnZ",
        "outputId": "c6cdd61f-d9b4-4694-b1fd-f1d5a016bfaf"
      },
      "execution_count": 12,
      "outputs": [
        {
          "output_type": "stream",
          "name": "stdout",
          "text": [
            "\n"
          ]
        }
      ]
    },
    {
      "cell_type": "code",
      "source": [
        "file = open(\"newfile2.txt\", 'a')\n",
        "file.write(\"and also by the programmer of course. \")\n",
        "file.close()"
      ],
      "metadata": {
        "id": "H555Gxl-5gw_"
      },
      "execution_count": 13,
      "outputs": []
    },
    {
      "cell_type": "code",
      "source": [
        "def generate_truthable(number_of_variables):\n",
        "  total_combinations = 2 ** number_of_variables\n",
        "  combinations_list = []\n",
        "  for i in range (total_combinations):\n",
        "    bin_equivalent = bin(i)[2:]\n",
        "    while len(bin_equivalent) < number_of_variables:\n",
        "      bin_equivalent = \"0\" + bin_equivalent\n",
        "    combinations_list.append(tuple(int(val) for val in bin_equivalent))\n",
        "  return combinations_list\n",
        "\n",
        "print(generate_truthable(3))"
      ],
      "metadata": {
        "colab": {
          "base_uri": "https://localhost:8080/"
        },
        "id": "Gd4EQcJz5xcE",
        "outputId": "6188a37f-1e10-43c7-8821-7a1a61ca2b39"
      },
      "execution_count": 14,
      "outputs": [
        {
          "output_type": "stream",
          "name": "stdout",
          "text": [
            "[(0, 0, 0), (0, 0, 1), (0, 1, 0), (0, 1, 1), (1, 0, 0), (1, 0, 1), (1, 1, 0), (1, 1, 1)]\n"
          ]
        }
      ]
    },
    {
      "cell_type": "code",
      "source": [
        "def generate_truthtable(number_of_variables=0):\n",
        "    if number_of_variables == 0:\n",
        "        return \"You need to enter an integer\"\n",
        "    else:\n",
        "        total_combinations = 2 ** number_of_variables\n",
        "        combinations_list = []\n",
        "        for i in range(total_combinations):\n",
        "            bin_equivalent = bin(i)[2:]\n",
        "            while len(bin_equivalent) < number_of_variables:\n",
        "                bin_equivalent = \"0\" + bin_equivalent\n",
        "            combinations_list.append(tuple(int(val) for val in bin_equivalent))\n",
        "        return combinations_list\n"
      ],
      "metadata": {
        "id": "MFKDXEJJ6ZIe"
      },
      "execution_count": 15,
      "outputs": []
    },
    {
      "cell_type": "code",
      "source": [
        "import math\n",
        "\n",
        "def quadratic_formula(a, b, c):\n",
        "    if b**2 - (4*a*c) < 0:  # involving imaginary numbers\n",
        "        x1 = (complex(-b, math.floor(math.sqrt(abs(b**2 - (4*a*c)))))) / (2*a)\n",
        "        x2 = (complex(-b, -1 * math.floor(math.sqrt(abs(b**2 - (4*a*c)))))) / (2*a)\n",
        "        return x1, x2\n",
        "    else:\n",
        "        x1 = (-b + math.sqrt(b**2 - (4*a*c))) / (2*a)\n",
        "        x2 = (-b - math.sqrt(b**2 - (4*a*c))) / (2*a)\n",
        "        return x1, x2\n",
        "\n",
        "# print(quadratic_formula(1, 12, 32))\n",
        "print(quadratic_formula(1, 2, 3))\n"
      ],
      "metadata": {
        "colab": {
          "base_uri": "https://localhost:8080/"
        },
        "id": "THpXdf0Z6fS9",
        "outputId": "e6dd0740-3572-4216-95a2-8556177314d2"
      },
      "execution_count": 16,
      "outputs": [
        {
          "output_type": "stream",
          "name": "stdout",
          "text": [
            "((-1+1j), (-1-1j))\n"
          ]
        }
      ]
    },
    {
      "cell_type": "code",
      "source": [
        "import math\n",
        "\n",
        "def angle_demo():\n",
        "    angle = math.sin(math.pi / 2)  # the default input is in radians\n",
        "    # angle sin(90)=1 in degrees == sin(pi/2)=1 in radians\n",
        "    print(angle)\n",
        "\n",
        "    # to make it convenient, convert to radians\n",
        "    angle = math.sin(math.radians(90))\n",
        "    print(angle)\n",
        "\n",
        "    # this is also similar for cosine and other trigonometric and\n",
        "    # hyperbolic functions\n",
        "\n",
        "angle_demo()\n"
      ],
      "metadata": {
        "colab": {
          "base_uri": "https://localhost:8080/"
        },
        "id": "HRtKPCjp6rE_",
        "outputId": "763c4e15-92e6-4dd4-a408-6d606b42a974"
      },
      "execution_count": 17,
      "outputs": [
        {
          "output_type": "stream",
          "name": "stdout",
          "text": [
            "1.0\n",
            "1.0\n"
          ]
        }
      ]
    },
    {
      "cell_type": "code",
      "source": [
        "import time\n",
        "\n",
        "def pause():\n",
        "  for i in range (10, 0, -1):\n",
        "    print(f\"The program will end in {i}..\")\n",
        "    time.sleep(1)\n",
        "\n",
        "pause()"
      ],
      "metadata": {
        "colab": {
          "base_uri": "https://localhost:8080/"
        },
        "id": "mdI2EJkg6zRS",
        "outputId": "67591462-7075-4820-d414-4c5497fb7769"
      },
      "execution_count": 20,
      "outputs": [
        {
          "output_type": "stream",
          "name": "stdout",
          "text": [
            "The program will end in 10..\n",
            "The program will end in 9..\n",
            "The program will end in 8..\n",
            "The program will end in 7..\n",
            "The program will end in 6..\n",
            "The program will end in 5..\n",
            "The program will end in 4..\n",
            "The program will end in 3..\n",
            "The program will end in 2..\n",
            "The program will end in 1..\n"
          ]
        }
      ]
    },
    {
      "cell_type": "code",
      "source": [
        "def current_time():\n",
        "  t = time.strftime(\"%I:%M %p\")\n",
        "  return t\n",
        "\n",
        "print(current_time())"
      ],
      "metadata": {
        "colab": {
          "base_uri": "https://localhost:8080/"
        },
        "id": "iEqQAB3W7T7D",
        "outputId": "43d78306-de21-4297-ffc8-2d96e85e338d"
      },
      "execution_count": 21,
      "outputs": [
        {
          "output_type": "stream",
          "name": "stdout",
          "text": [
            "07:55 AM\n"
          ]
        }
      ]
    },
    {
      "cell_type": "code",
      "source": [
        "import time\n",
        "\n",
        "def current_time():\n",
        "  d = time.strftime(\"%b %d %Y\")\n",
        "  return d\n",
        "\n",
        "print(current_time())"
      ],
      "metadata": {
        "colab": {
          "base_uri": "https://localhost:8080/"
        },
        "id": "3oKqDgPv7tj-",
        "outputId": "1d1bfb50-c606-4204-fd50-71ff79226d42"
      },
      "execution_count": 22,
      "outputs": [
        {
          "output_type": "stream",
          "name": "stdout",
          "text": [
            "Feb 21 2025\n"
          ]
        }
      ]
    },
    {
      "cell_type": "code",
      "source": [
        "import datetime\n",
        "\n",
        "print(\"The current time is\", datetime.datetime.now())\n"
      ],
      "metadata": {
        "colab": {
          "base_uri": "https://localhost:8080/"
        },
        "id": "L2Mwokm28Ndb",
        "outputId": "62cf9b9e-5474-4ea4-8771-faf8cbbdb93f"
      },
      "execution_count": 23,
      "outputs": [
        {
          "output_type": "stream",
          "name": "stdout",
          "text": [
            "The current time is 2025-02-21 07:58:20.335872\n"
          ]
        }
      ]
    },
    {
      "cell_type": "code",
      "source": [
        "import time\n",
        "\n",
        "def pause():\n",
        "    for i in range(10, 0, -1):\n",
        "        print(f\"The program will end in {i}..\")\n",
        "        time.sleep(1)\n",
        "\n",
        "pause()  # Uncommented to run\n",
        "\n",
        "def current_time():\n",
        "    t = time.strftime(\"%I:%M %p\")\n",
        "    return t\n",
        "\n",
        "print(current_time())  # Uncommented to print time\n",
        "\n",
        "def current_date():\n",
        "    d = time.strftime(\"%b %d %Y\")\n",
        "    return d\n",
        "\n",
        "print(current_date())  # Uncommented to print date\n"
      ],
      "metadata": {
        "colab": {
          "base_uri": "https://localhost:8080/"
        },
        "id": "OMs3zV-i8Yhm",
        "outputId": "c9bd2bc2-14a9-4477-ded3-05b7237e786e"
      },
      "execution_count": 24,
      "outputs": [
        {
          "output_type": "stream",
          "name": "stdout",
          "text": [
            "The program will end in 10..\n",
            "The program will end in 9..\n",
            "The program will end in 8..\n",
            "The program will end in 7..\n",
            "The program will end in 6..\n",
            "The program will end in 5..\n",
            "The program will end in 4..\n",
            "The program will end in 3..\n",
            "The program will end in 2..\n",
            "The program will end in 1..\n",
            "07:59 AM\n",
            "Feb 21 2025\n"
          ]
        }
      ]
    },
    {
      "cell_type": "code",
      "source": [
        "from datetime import datetime\n",
        "\n",
        "def current_time():\n",
        "    return datetime.now().strftime(\"%I:%M %p\")\n",
        "\n",
        "def current_date():\n",
        "    return datetime.now().strftime(\"%b %d %Y\")\n",
        "\n",
        "\n",
        "print(\"The current time is\", current_time())\n",
        "print(\"The current date is\", current_date())"
      ],
      "metadata": {
        "colab": {
          "base_uri": "https://localhost:8080/"
        },
        "id": "oFp-9dA_8lys",
        "outputId": "c95268d1-f6b1-4880-88e5-995fb9b076e8"
      },
      "execution_count": 27,
      "outputs": [
        {
          "output_type": "stream",
          "name": "stdout",
          "text": [
            "The current time is 08:00 AM\n",
            "The current date is Feb 21 2025\n"
          ]
        }
      ]
    },
    {
      "cell_type": "markdown",
      "source": [
        "SUPPLEMENTARY ACTIVITY:"
      ],
      "metadata": {
        "id": "ZQuJFB698_Lx"
      }
    },
    {
      "cell_type": "markdown",
      "source": [
        "Simple Word Filter\n",
        "1.\tCreate a function that would accept two inputs: a sentence(string), and a list containing bad words that the user would like to censor but not remove. The function should return the newly filtered sentence wherein the bad words are replaced with asterisks equal to the length of the censored word.\n"
      ],
      "metadata": {
        "id": "qkaRQFjV_dhP"
      }
    },
    {
      "cell_type": "code",
      "source": [
        "def simplewordfilter(sentence, bad_words):\n",
        "    for word in bad_words:\n",
        "        sentence = sentence.replace(word, '*' * len(word))\n",
        "    return sentence\n",
        "\n",
        "def main():\n",
        "    sentence = input(\"Enter a sentence: \")\n",
        "    bad_words = input(\"Enter a list of bad words separated by spaces: \").split()\n",
        "    filtered_sentence = simplewordfilter(sentence, bad_words)\n",
        "    print(\"Filtered sentence:\", filtered_sentence)\n",
        "\n",
        "if __name__ == \"__main__\":\n",
        "    main()"
      ],
      "metadata": {
        "colab": {
          "base_uri": "https://localhost:8080/"
        },
        "id": "4jXkITaX9EN0",
        "outputId": "804b084b-963b-4819-9749-7cf210a7d783"
      },
      "execution_count": 9,
      "outputs": [
        {
          "output_type": "stream",
          "name": "stdout",
          "text": [
            "Enter a sentence: ryan bad word\n",
            "Enter a list of bad words separated by spaces: bad word\n",
            "Filtered sentence: ryan *** ****\n"
          ]
        }
      ]
    },
    {
      "cell_type": "markdown",
      "source": [
        "2.\tGiven a certain Physics problem create a function(projectilemotion_solver) that would take in the following inputs below and return the needed information when the function is called. Name the program containing the function projectilemotion.py then create another program main_program.py and import projectilemotion.py\n",
        "“A long jumper leaves the ground at an angle of 20.0° above the horizontal and at a speed of 11.0 m/s. “\n",
        "(a)\tHow far does he jump in the horizontal direction?\n",
        "(b)\tWhat is the maximum height reached?\n",
        "Given a projectile motion problem like this where the angle and speed are given, the range or distance travelled in the horizontal direction can be determined by using the formula:\n",
        "𝑣𝑖2𝑠𝑖𝑛2𝜃𝑖\n",
        "𝑅 =\n",
        "𝑔\n",
        "The maximum height can be determined using the formula:\n",
        "𝑣𝑖2𝑠𝑖𝑛2𝜃𝑖\n",
        "ℎ =\n",
        "2𝑔\n"
      ],
      "metadata": {
        "id": "PkhviJ4KIEfz"
      }
    },
    {
      "cell_type": "code",
      "source": [
        "import math\n",
        "\n",
        "def projectilemotion_solver(angle, speed):\n",
        "    g = 9.81\n",
        "    angle_rad = math.radians(angle)\n",
        "\n",
        "\n",
        "    range_distance = (speed**2 * math.sin(2 * angle_rad)) / g\n",
        "\n",
        "\n",
        "    max_height = (speed**2 * (math.sin(angle_rad)**2)) / (2 * g)\n",
        "\n",
        "    return range_distance, max_height\n",
        "\n",
        "def main():\n",
        "\n",
        "    angle = 20.0\n",
        "    speed = 11.0\n",
        "\n",
        "\n",
        "    distance, height = projectilemotion_solver(angle, speed)\n",
        "\n",
        "\n",
        "    print(f\"Range: {distance:.2f} m\")\n",
        "    print(f\"Max Height: {height:.2f} m\")\n",
        "\n",
        "if __name__ == \"__main__\":\n",
        "    main()"
      ],
      "metadata": {
        "colab": {
          "base_uri": "https://localhost:8080/"
        },
        "id": "pOYbxCv8IJF6",
        "outputId": "cf9dbf6c-1cfc-4f85-b213-4b7a4880bb34"
      },
      "execution_count": 10,
      "outputs": [
        {
          "output_type": "stream",
          "name": "stdout",
          "text": [
            "Range: 7.93 m\n",
            "Max Height: 0.72 m\n"
          ]
        }
      ]
    },
    {
      "cell_type": "markdown",
      "source": [
        "3.\tCreate a quadratic equation solver module that would write the inputs of the user and the corresponding output into text files."
      ],
      "metadata": {
        "id": "u-K-zbAIIe98"
      }
    },
    {
      "cell_type": "code",
      "source": [
        "import cmath\n",
        "def quadratic_solver(a, b, c):\n",
        "\n",
        "    d = (b**2) - (4*a*c)\n",
        "\n",
        "\n",
        "    sol1 = (-b + cmath.sqrt(d)) / (2 * a)\n",
        "    sol2 = (-b - cmath.sqrt(d)) / (2 * a)\n",
        "\n",
        "    return sol1, sol2\n",
        "\n",
        "def write_to_file(a, b, c, sol1, sol2):\n",
        "\n",
        "    with open('quadratic_solutions.txt', 'a') as f:\n",
        "        f.write(f\"Equation: {a}x^2 + {b}x + {c} = 0\\n\")\n",
        "        f.write(f\"Solutions: {sol1}, {sol2}\\n\\n\")\n",
        "\n",
        "def main():\n",
        "\n",
        "    a = float(input(\"Enter coefficient a: \"))\n",
        "    b = float(input(\"Enter coefficient b: \"))\n",
        "    c = float(input(\"Enter coefficient c: \"))\n",
        "\n",
        "\n",
        "    sol1, sol2 = quadratic_solver(a, b, c)\n",
        "\n",
        "\n",
        "    write_to_file(a, b, c, sol1, sol2)\n",
        "\n",
        "\n",
        "    print(f\"The solutions are: {sol1} and {sol2}\")\n",
        "\n",
        "if __name__ == \"__main__\":\n",
        "    main()  # Call the main function if the script is run directly"
      ],
      "metadata": {
        "colab": {
          "base_uri": "https://localhost:8080/"
        },
        "id": "RISRr3fMIncz",
        "outputId": "9eca19cd-b45d-419c-bdb9-28d6b0d19046"
      },
      "execution_count": 11,
      "outputs": [
        {
          "output_type": "stream",
          "name": "stdout",
          "text": [
            "Enter coefficient a: 2\n",
            "Enter coefficient b: 3\n",
            "Enter coefficient c: 4\n",
            "The solutions are: (-0.75+1.1989578808281798j) and (-0.75-1.1989578808281798j)\n"
          ]
        }
      ]
    }
  ]
}